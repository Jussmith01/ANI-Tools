{
 "cells": [
  {
   "cell_type": "markdown",
   "metadata": {},
   "source": [
    "### Imports"
   ]
  },
  {
   "cell_type": "code",
   "execution_count": 42,
   "metadata": {},
   "outputs": [],
   "source": [
    "from ase_interface import ANIENS\n",
    "from ase_interface import ensemblemolecule\n",
    "import hdnntools as hdt\n",
    "\n",
    "import numpy as np\n",
    "import ase\n",
    "\n",
    "import time\n",
    "\n",
    "import os\n",
    "os.environ[\"OMP_NUM_THREADS\"] = \"2\"\n",
    "\n",
    "import  ase\n",
    "from ase.md.langevin import Langevin\n",
    "from ase.md.verlet import VelocityVerlet\n",
    "from ase.io.trajectory import Trajectory\n",
    "from ase import units\n",
    "from ase.optimize import LBFGS\n",
    "from ase.io import read, write\n",
    "from ase.parallel import world\n",
    "from ase import Atom, Atoms\n",
    "\n",
    "import matplotlib.pyplot as plt"
   ]
  },
  {
   "cell_type": "markdown",
   "metadata": {},
   "source": [
    "### Setup files to load (2LUF or TrpCage)"
   ]
  },
  {
   "cell_type": "code",
   "execution_count": 43,
   "metadata": {},
   "outputs": [],
   "source": [
    "molfile = 'l.pdb'\n",
    "\n",
    "ntdir = '/home/jsmith48/ANI-Networks/networks/ANI-1x_wcoulomb-3/'\n",
    "cns = ntdir + 'rHCNO-5.0R_16-3.4A_a8-4.params'\n",
    "sae = ntdir + 'sae_linfit.dat'\n",
    "nnf = ntdir + 'train'\n",
    "Nn = 4"
   ]
  },
  {
   "cell_type": "markdown",
   "metadata": {
    "collapsed": true
   },
   "source": [
    "### Load ANI models"
   ]
  },
  {
   "cell_type": "code",
   "execution_count": 44,
   "metadata": {},
   "outputs": [],
   "source": [
    "# Setup NeuroChem\n",
    "aens = ensemblemolecule(cns, sae, nnf, Nn, 0)"
   ]
  },
  {
   "cell_type": "code",
   "execution_count": 45,
   "metadata": {},
   "outputs": [],
   "source": [
    "# Load molecule\n",
    "mol = read(molfile)\n",
    "\n",
    "# Set ANI calculator\n",
    "mol.set_calculator(ANIENS(aens))"
   ]
  },
  {
   "cell_type": "code",
   "execution_count": null,
   "metadata": {},
   "outputs": [],
   "source": []
  },
  {
   "cell_type": "markdown",
   "metadata": {},
   "source": [
    "### Calculate energy and force"
   ]
  },
  {
   "cell_type": "code",
   "execution_count": 46,
   "metadata": {},
   "outputs": [
    {
     "name": "stdout",
     "output_type": "stream",
     "text": [
      "Total time: 0.30655956268310547\n",
      "Energy: -779747.1524971446\n",
      "Energy: [[ 1.152414    0.44286013  0.3826418 ]\n",
      " [-1.1272864  -0.32571375  0.7263681 ]\n",
      " [ 0.19105546 -0.46433198 -0.8786344 ]\n",
      " ...\n",
      " [ 0.02854292  0.3865103   1.037487  ]\n",
      " [ 0.42189258 -0.8220571  -0.84911555]\n",
      " [-0.5597946   0.32895553  0.02199788]]\n",
      "Number of atoms: 1125\n"
     ]
    }
   ],
   "source": [
    "s_time = time.time()\n",
    "E = mol.get_potential_energy()\n",
    "F = mol.get_forces()\n",
    "print('Total time:',time.time()-s_time)\n",
    "\n",
    "print('Energy:',E)\n",
    "print('Energy:',F)\n",
    "\n",
    "spc = mol.get_chemical_symbols()\n",
    "print('Number of atoms:',len(spc))"
   ]
  },
  {
   "cell_type": "markdown",
   "metadata": {},
   "source": [
    "mol."
   ]
  },
  {
   "cell_type": "code",
   "execution_count": 47,
   "metadata": {},
   "outputs": [
    {
     "data": {
      "text/plain": [
       "375.0"
      ]
     },
     "execution_count": 47,
     "metadata": {},
     "output_type": "execute_result"
    }
   ],
   "source": [
    "X = mol.get_positions()\n",
    "Q = mol.calc.nc.compute_mean_charges()[0]\n",
    "\n",
    "Q.size/3"
   ]
  },
  {
   "cell_type": "code",
   "execution_count": 48,
   "metadata": {},
   "outputs": [],
   "source": [
    "D = []\n",
    "for i in range(375):\n",
    "    D.append(np.linalg.norm(np.sum((Q[3*i:3*i+3]*X[3*i:3*i+3].T).T,axis=0))/0.20819434)"
   ]
  },
  {
   "cell_type": "code",
   "execution_count": 49,
   "metadata": {},
   "outputs": [
    {
     "data": {
      "text/plain": [
       "2.9183236923927325"
      ]
     },
     "execution_count": 49,
     "metadata": {},
     "output_type": "execute_result"
    }
   ],
   "source": [
    "np.mean(D)"
   ]
  },
  {
   "cell_type": "markdown",
   "metadata": {},
   "source": []
  },
  {
   "cell_type": "code",
   "execution_count": null,
   "metadata": {},
   "outputs": [],
   "source": []
  },
  {
   "cell_type": "code",
   "execution_count": null,
   "metadata": {},
   "outputs": [],
   "source": []
  },
  {
   "cell_type": "markdown",
   "metadata": {},
   "source": [
    "### Run MD"
   ]
  },
  {
   "cell_type": "code",
   "execution_count": null,
   "metadata": {
    "scrolled": true
   },
   "outputs": [],
   "source": []
  },
  {
   "cell_type": "markdown",
   "metadata": {},
   "source": [
    "### Visualization"
   ]
  },
  {
   "cell_type": "code",
   "execution_count": null,
   "metadata": {},
   "outputs": [],
   "source": []
  },
  {
   "cell_type": "code",
   "execution_count": null,
   "metadata": {},
   "outputs": [],
   "source": []
  },
  {
   "cell_type": "code",
   "execution_count": null,
   "metadata": {},
   "outputs": [],
   "source": []
  }
 ],
 "metadata": {
  "kernelspec": {
   "display_name": "Python 3",
   "language": "python",
   "name": "python3"
  },
  "language_info": {
   "codemirror_mode": {
    "name": "ipython",
    "version": 3
   },
   "file_extension": ".py",
   "mimetype": "text/x-python",
   "name": "python",
   "nbconvert_exporter": "python",
   "pygments_lexer": "ipython3",
   "version": "3.7.1"
  }
 },
 "nbformat": 4,
 "nbformat_minor": 2
}
