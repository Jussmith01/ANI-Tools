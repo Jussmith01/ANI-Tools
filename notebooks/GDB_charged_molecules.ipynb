{
 "cells": [
  {
   "cell_type": "code",
   "execution_count": 3,
   "metadata": {
    "collapsed": true
   },
   "outputs": [],
   "source": [
    "from rdkit import Chem\n",
    "\n",
    "def IonizedMols(smi):\n",
    "    '''From a given SMILES, return all possible protonated/deprotonated molecules, considering N, O and S atoms'''\n",
    "    # Setting molecule\n",
    "    mol = Chem.MolFromSmiles(smi)\n",
    "    # Building lists of all N, O and S atoms\n",
    "    atoms_idx = [] # Atoms indexes\n",
    "    nfc = [] # New formal charge\n",
    "    nehs = [] # New number of explicit hydrogens\n",
    "    for atom in mol.GetAtoms():\n",
    "        atn = atom.GetAtomicNum()\n",
    "        if (atn == 7 or atn == 8 or atn == 16): # If N, O or S\n",
    "            skip = False\n",
    "            nhs = atom.GetTotalNumHs() # Number of hydrogen bonded to the atom\n",
    "            # If N with no protons, if N with two protons,\n",
    "            # if O with no protons, or if S with no protons: protonate\n",
    "            if ((atn == 7 and nhs == 0) or (atn == 7 and nhs == 2) or (atn == 8 and nhs == 0) or (atn == 16 and nhs == 0)):\n",
    "                nfc.append(atom.GetFormalCharge()+1)\n",
    "                nehs.append(atom.GetTotalNumHs()+1)\n",
    "            # If N with one proton, if N with three protons,\n",
    "            # if O with one proton, if S with one proton: deprotonate\n",
    "            elif ((atn == 7 and nhs == 1) or (atn == 7 and nhs == 3) or (atn == 8 and nhs == 1) or (atn == 16 and nhs == 1)):\n",
    "                nfc.append(atom.GetFormalCharge()-1)\n",
    "                nehs.append(max(0,atom.GetNumExplicitHs()-1))\n",
    "            # If none of the above conditions are true, skip this atom\n",
    "            else:\n",
    "                skip = True\n",
    "            if (not skip): # If not skipping\n",
    "                atoms_idx.append(atom.GetIdx())\n",
    "    # Combining all possible protonations/deprotonations\n",
    "    ntats=len(atoms_idx) # Number of titratable atoms\n",
    "    vec = [] # This is a reference array that will aid in preparing the new SMILES string\n",
    "    [vec.append(0) for cnt in range(ntats)] # Initializing the array\n",
    "    nmols = [] # New molecules\n",
    "    while (sum(vec)<ntats): # With this loop we generate all possible protonations/deprotonations\n",
    "        pos = 0\n",
    "        if (vec[pos]==0):\n",
    "            vec[pos]=1\n",
    "        else:\n",
    "            vec[pos]=0\n",
    "            while (vec[pos+1]==1):\n",
    "                vec[pos+1]=0\n",
    "                pos+=1\n",
    "            vec[pos+1]=1\n",
    "        # Generating the new SMILES string\n",
    "        nmol = Chem.MolFromSmiles(smi)\n",
    "        for i in range(ntats):\n",
    "            if (vec[i]==1):\n",
    "                nmol.GetAtomWithIdx(atoms_idx[i]).SetFormalCharge(nfc[i])\n",
    "                nmol.GetAtomWithIdx(atoms_idx[i]).SetNumExplicitHs(nehs[i])\n",
    "        Chem.SanitizeMol(nmol)\n",
    "        if (Chem.MolToSmiles(mol) != Chem.MolToSmiles(nmol)):\n",
    "            # Printing new SMILES string\n",
    "            nmols.append((Chem.MolToSmiles(nmol)))\n",
    "    return nmols"
   ]
  },
  {
   "cell_type": "code",
   "execution_count": null,
   "metadata": {},
   "outputs": [
    {
     "name": "stdout",
     "output_type": "stream",
     "text": [
      "Working on: gdb11_size01.smi and gdb11SFCl_size01.smi\n",
      "Working on: gdb11_size02.smi and gdb11SFCl_size02.smi\n",
      "Working on: gdb11_size03.smi and gdb11SFCl_size03.smi\n",
      "Working on: gdb11_size04.smi and gdb11SFCl_size04.smi\n",
      "Working on: gdb11_size05.smi and gdb11SFCl_size05.smi\n",
      "Working on: gdb11_size06.smi and gdb11SFCl_size06.smi\n",
      "Working on: gdb11_size07.smi and gdb11SFCl_size07.smi\n",
      "Working on: gdb11_size08.smi and gdb11SFCl_size08.smi\n",
      "Working on: gdb11_size09.smi and gdb11SFCl_size09.smi\n",
      "Working on: gdb11_size10.smi and gdb11SFCl_size10.smi\n",
      "Working on: gdb11_size11.smi and gdb11SFCl_size11.smi\n"
     ]
    }
   ],
   "source": [
    "files1 = [\"gdb11_size%02d.smi\"%(i) for i in range(1,12)]\n",
    "files2 = [\"gdb11SFCl_size%02d.smi\"%(i) for i in range(1,12)]\n",
    "for i in range(len(files1)):\n",
    "    print('Working on: '+files1[i]+' and '+files2[i])\n",
    "    nf=open(\"gdb11charged_size%02d.smi\"%(i+1), 'w')\n",
    "    cnt=1\n",
    "    files=[files1[i],files2[i]]\n",
    "    for fl in files:\n",
    "        f=open(fl, \"r\")\n",
    "        for line in f:\n",
    "            if not line.strip():\n",
    "                break\n",
    "            smi = line.split()[0]\n",
    "            data = IonizedMols(smi)\n",
    "            if (data):\n",
    "                for d in data:\n",
    "                    nf.write(d+'\\t'+str(cnt)+'\\t1\\n')\n",
    "                    cnt+=1\n",
    "        f.close()\n",
    "    nf.close()"
   ]
  },
  {
   "cell_type": "code",
   "execution_count": null,
   "metadata": {
    "collapsed": true
   },
   "outputs": [],
   "source": []
  }
 ],
 "metadata": {
  "kernelspec": {
   "display_name": "Python 3",
   "language": "python",
   "name": "python3"
  },
  "language_info": {
   "codemirror_mode": {
    "name": "ipython",
    "version": 3
   },
   "file_extension": ".py",
   "mimetype": "text/x-python",
   "name": "python",
   "nbconvert_exporter": "python",
   "pygments_lexer": "ipython3",
   "version": "3.6.4"
  }
 },
 "nbformat": 4,
 "nbformat_minor": 2
}
