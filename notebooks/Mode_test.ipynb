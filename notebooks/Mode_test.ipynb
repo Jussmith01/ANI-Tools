{
 "cells": [
  {
   "cell_type": "markdown",
   "metadata": {},
   "source": [
    "### Imports"
   ]
  },
  {
   "cell_type": "code",
   "execution_count": 51,
   "metadata": {},
   "outputs": [],
   "source": [
    "from ase_interface import ANIENS\n",
    "from ase_interface import ensemblemolecule\n",
    "import hdnntools as hdt\n",
    "\n",
    "import numpy as np\n",
    "import ase\n",
    "\n",
    "import time\n",
    "\n",
    "import os\n",
    "os.environ[\"OMP_NUM_THREADS\"] = \"2\"\n",
    "\n",
    "import  ase\n",
    "from ase.md.langevin import Langevin\n",
    "from ase.md.verlet import VelocityVerlet\n",
    "from ase.io.trajectory import Trajectory\n",
    "from ase import units\n",
    "from ase.optimize import LBFGS\n",
    "from ase.io import read, write\n",
    "from ase.parallel import world\n",
    "from ase import Atom, Atoms\n",
    "\n",
    "import matplotlib.pyplot as plt"
   ]
  },
  {
   "cell_type": "markdown",
   "metadata": {},
   "source": [
    "### Setup files to load (2LUF or TrpCage)"
   ]
  },
  {
   "cell_type": "code",
   "execution_count": 52,
   "metadata": {},
   "outputs": [],
   "source": [
    "molfile = 'water.xyz'\n",
    "\n",
    "ntdir = '/home/jsmith48/ANI-Networks/networks/ANI-1x_wcoulomb-3/'\n",
    "cns = ntdir + 'rHCNO-5.0R_16-3.4A_a8-4.params'\n",
    "sae = ntdir + 'sae_linfit.dat'\n",
    "nnf = ntdir + 'train'\n",
    "Nn = 4"
   ]
  },
  {
   "cell_type": "markdown",
   "metadata": {
    "collapsed": true
   },
   "source": [
    "### Load ANI models"
   ]
  },
  {
   "cell_type": "code",
   "execution_count": 53,
   "metadata": {},
   "outputs": [],
   "source": [
    "# Setup NeuroChem\n",
    "aens = ensemblemolecule(cns, sae, nnf, Nn, 0)"
   ]
  },
  {
   "cell_type": "code",
   "execution_count": 54,
   "metadata": {},
   "outputs": [],
   "source": [
    "# Load molecule\n",
    "mol = read(molfile)\n",
    "\n",
    "# Set ANI calculator\n",
    "mol.set_calculator(ANIENS(aens))"
   ]
  },
  {
   "cell_type": "markdown",
   "metadata": {},
   "source": [
    "### Calculate energy and force"
   ]
  },
  {
   "cell_type": "code",
   "execution_count": 55,
   "metadata": {},
   "outputs": [
    {
     "name": "stdout",
     "output_type": "stream",
     "text": [
      "Total time: 0.013005256652832031\n",
      "Energy: -2078.6069824246233\n",
      "Energy: [[-0.03678723  0.04862085 -0.01844217]\n",
      " [-0.53465253 -0.38996035  0.14791547]\n",
      " [ 0.5714397   0.34133908 -0.1294733 ]]\n",
      "Number of atoms: 3\n"
     ]
    }
   ],
   "source": [
    "s_time = time.time()\n",
    "E = mol.get_potential_energy()\n",
    "F = mol.get_forces()\n",
    "print('Total time:',time.time()-s_time)\n",
    "\n",
    "print('Energy:',E)\n",
    "print('Energy:',F)\n",
    "\n",
    "spc = mol.get_chemical_symbols()\n",
    "print('Number of atoms:',len(spc))"
   ]
  },
  {
   "cell_type": "markdown",
   "metadata": {},
   "source": [
    "### Optimize the system"
   ]
  },
  {
   "cell_type": "code",
   "execution_count": 56,
   "metadata": {},
   "outputs": [
    {
     "name": "stdout",
     "output_type": "stream",
     "text": [
      "       Step     Time          Energy         fmax\n",
      "LBFGS:    0 13:23:39    -2078.606982        0.6781\n",
      "LBFGS:    1 13:23:39    -2078.616867        0.3617\n",
      "LBFGS:    2 13:23:39    -2078.626645        0.2517\n",
      "LBFGS:    3 13:23:39    -2078.627849        0.0282\n",
      "LBFGS:    4 13:23:39    -2078.627858        0.0014\n",
      "LBFGS:    5 13:23:39    -2078.627858        0.0001\n",
      "LBFGS:    6 13:23:39    -2078.627858        0.0000\n",
      "LBFGS:    7 13:23:39    -2078.627858        0.0000\n",
      "[ANI Total time: 0.02858901023864746 seconds]\n"
     ]
    }
   ],
   "source": [
    "# Optimize molecule\n",
    "start_time = time.time()\n",
    "dyn = LBFGS(mol)\n",
    "dyn.run(fmax=0.00001,steps=5000)\n",
    "print('[ANI Total time:', time.time() - start_time, 'seconds]')\n",
    "\n",
    "# Save optimized mol\n",
    "spc = mol.get_chemical_symbols()\n",
    "pos = mol.get_positions(wrap=False).reshape(1,len(spc),3)"
   ]
  },
  {
   "cell_type": "code",
   "execution_count": 57,
   "metadata": {},
   "outputs": [
    {
     "name": "stdout",
     "output_type": "stream",
     "text": [
      "Writing ir.eq.pckl, dipole moment = (0.259757 -0.343669 0.130256)\n",
      "Writing ir.0x-.pckl, dipole moment = (0.265175 -0.342925 0.129964)\n",
      "Writing ir.0x+.pckl, dipole moment = (0.254148 -0.344354 0.130526)\n",
      "Writing ir.0y-.pckl, dipole moment = (0.260491 -0.338251 0.131139)\n",
      "Writing ir.0y+.pckl, dipole moment = (0.259021 -0.348900 0.129332)\n",
      "Writing ir.0z-.pckl, dipole moment = (0.259465 -0.342752 0.137558)\n",
      "Writing ir.0z+.pckl, dipole moment = (0.260022 -0.344535 0.122903)\n",
      "Writing ir.1x-.pckl, dipole moment = (0.257494 -0.344169 0.130444)\n",
      "Writing ir.1x+.pckl, dipole moment = (0.261888 -0.343126 0.130052)\n",
      "Writing ir.1y-.pckl, dipole moment = (0.259165 -0.346799 0.129983)\n",
      "Writing ir.1y+.pckl, dipole moment = (0.260327 -0.340510 0.130523)\n",
      "Writing ir.1z-.pckl, dipole moment = (0.259968 -0.343924 0.126526)\n",
      "Writing ir.1z+.pckl, dipole moment = (0.259527 -0.343406 0.133976)\n",
      "Writing ir.2x-.pckl, dipole moment = (0.256447 -0.343844 0.130334)\n",
      "Writing ir.2x+.pckl, dipole moment = (0.263046 -0.343459 0.130165)\n",
      "Writing ir.2y-.pckl, dipole moment = (0.259605 -0.345772 0.129607)\n",
      "Writing ir.2y+.pckl, dipole moment = (0.259913 -0.341445 0.130874)\n",
      "Writing ir.2z-.pckl, dipole moment = (0.259815 -0.344287 0.126656)\n",
      "Writing ir.2z+.pckl, dipole moment = (0.259699 -0.343023 0.133830)\n",
      "-------------------------------------\n",
      " Mode    Frequency        Intensity\n",
      "  #    meV     cm^-1   (D/Å)^2 amu^-1\n",
      "-------------------------------------\n",
      "  0    3.9i     31.6i     3.7542\n",
      "  1    0.0       0.2      0.0028\n",
      "  2    0.1       0.5      0.0003\n",
      "  3    0.1       1.2      0.0010\n",
      "  4    2.0      15.8      2.8234\n",
      "  5    3.5      27.9      3.5843\n",
      "  6  206.7    1667.0      2.2709\n",
      "  7  478.1    3855.8      0.3824\n",
      "  8  487.8    3934.2      2.2862\n",
      "-------------------------------------\n",
      "Zero-point energy: 0.589 eV\n",
      "Static dipole moment: 2.162 D\n",
      "Maximum force on atom in `equilibrium`: 0.0000 eV/Å\n",
      "\n"
     ]
    }
   ],
   "source": [
    "from ase.vibrations import Infrared\n",
    "ir = Infrared(mol,delta=0.01)\n",
    "ir.run()\n",
    "ir.summary()"
   ]
  },
  {
   "cell_type": "code",
   "execution_count": 58,
   "metadata": {},
   "outputs": [
    {
     "name": "stdout",
     "output_type": "stream",
     "text": [
      "   158.637      0.000\n",
      "     0.118      0.234\n",
      "     0.011      0.468\n",
      "     0.044      1.169\n",
      "   119.304     15.763\n",
      "   151.458     27.938\n",
      "    95.958   1667.013\n",
      "    16.157   3855.752\n",
      "    96.605   3934.242\n"
     ]
    }
   ],
   "source": [
    "for i,f in zip(42.2561*ir.intensities,ir.get_frequencies()):\n",
    "    print(\"{:10.3f}\".format(i),\"{:10.3f}\".format(float(f.real)))"
   ]
  },
  {
   "cell_type": "markdown",
   "metadata": {},
   "source": [
    "### Setup thermostat"
   ]
  },
  {
   "cell_type": "code",
   "execution_count": 59,
   "metadata": {},
   "outputs": [
    {
     "data": {
      "image/png": "[encoded data removed]",
      "text/plain": [
       "<Figure size 1000x1000 with 1 Axes>"
      ]
     },
     "metadata": {
      "needs_background": "light"
     },
     "output_type": "display_data"
    }
   ],
   "source": [
    "spec = ir.get_spectrum()\n",
    "\n",
    "fig=plt.figure(figsize=(5, 5),dpi=200)\n",
    "plt.plot(spec[0],spec[1])\n",
    "plt.xlabel(\"Frequency\")\n",
    "plt.ylabel(\"Intensity\")\n",
    "plt.show()"
   ]
  },
  {
   "cell_type": "code",
   "execution_count": 60,
   "metadata": {},
   "outputs": [
    {
     "data": {
      "text/plain": [
       "19"
      ]
     },
     "execution_count": 60,
     "metadata": {},
     "output_type": "execute_result"
    }
   ],
   "source": [
    "ir.clean()"
   ]
  },
  {
   "cell_type": "markdown",
   "metadata": {},
   "source": [
    "### Run MD"
   ]
  },
  {
   "cell_type": "code",
   "execution_count": null,
   "metadata": {
    "scrolled": true
   },
   "outputs": [],
   "source": []
  },
  {
   "cell_type": "markdown",
   "metadata": {},
   "source": [
    "### Visualization"
   ]
  },
  {
   "cell_type": "code",
   "execution_count": null,
   "metadata": {},
   "outputs": [],
   "source": []
  },
  {
   "cell_type": "code",
   "execution_count": null,
   "metadata": {},
   "outputs": [],
   "source": []
  },
  {
   "cell_type": "code",
   "execution_count": null,
   "metadata": {},
   "outputs": [],
   "source": []
  }
 ],
 "metadata": {
  "kernelspec": {
   "display_name": "Python 3",
   "language": "python",
   "name": "python3"
  },
  "language_info": {
   "codemirror_mode": {
    "name": "ipython",
    "version": 3
   },
   "file_extension": ".py",
   "mimetype": "text/x-python",
   "name": "python",
   "nbconvert_exporter": "python",
   "pygments_lexer": "ipython3",
   "version": "3.7.1"
  }
 },
 "nbformat": 4,
 "nbformat_minor": 2
}
