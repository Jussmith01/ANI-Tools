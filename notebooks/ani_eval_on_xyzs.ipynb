{
 "cells": [
  {
   "cell_type": "code",
   "execution_count": 28,
   "metadata": {
    "collapsed": true
   },
   "outputs": [],
   "source": [
    "from ase_interface import ANIENS\n",
    "from ase_interface import ensemblemolecule\n",
    "\n",
    "import pyNeuroChem as pync\n",
    "import pyaniasetools as pya\n",
    "import hdnntools as hdt\n",
    "\n",
    "import numpy as np\n",
    "import  ase\n",
    "\n",
    "import time\n",
    "\n",
    "import os\n",
    "os.environ[\"OMP_NUM_THREADS\"] = \"2\"\n",
    "\n",
    "import  ase\n",
    "from ase.md.langevin import Langevin\n",
    "from ase.md.verlet import VelocityVerlet\n",
    "from ase.io.trajectory import Trajectory\n",
    "from ase import units\n",
    "from ase.vibrations import Vibrations\n",
    "from ase.thermochemistry import IdealGasThermo\n",
    "from ase.optimize.fire import FIRE as QuasiNewton\n",
    "from ase.optimize import LBFGS\n",
    "\n",
    "from ase.md.nvtberendsen import NVTBerendsen\n",
    "from ase.md import MDLogger\n",
    "\n",
    "from ase.io import read, write\n",
    "\n",
    "from ase.parallel import world\n",
    "import hdnntools as hdt"
   ]
  },
  {
   "cell_type": "code",
   "execution_count": 29,
   "metadata": {
    "collapsed": true
   },
   "outputs": [],
   "source": [
    "idir = '/home/jsmith48/scratch/ccsd_extrapolation/romans_test/HC7_11/'\n",
    "#idir = '/home/jsmith48/scratch/ccsd_extrapolation/romans_test/ISOL6_11/' \n",
    "\n",
    "ntdir = '/home/jsmith48/scratch/ccsd_extrapolation/ccsd_train/tl_train_dhl_10/'\n",
    "ntdir = '/home/jsmith48/scratch/auto_dhl_al/modeldhl/ANI-1x-DHL-0000/ANI-1x-DHL-0000.0019/'\n",
    "cns = ntdir + 'train0/rHCNO-5.2R_16-3.5A_a4-8.params'\n",
    "sae = ntdir + 'train0/sae_linfit.dat'\n",
    "nnf = ntdir + 'train'\n",
    "Nn = 8"
   ]
  },
  {
   "cell_type": "code",
   "execution_count": 30,
   "metadata": {},
   "outputs": [],
   "source": [
    "# Set NC\n",
    "aens = ensemblemolecule(cns, sae, nnf, Nn, 6)"
   ]
  },
  {
   "cell_type": "code",
   "execution_count": 31,
   "metadata": {
    "collapsed": true
   },
   "outputs": [],
   "source": [
    "files = [f for f in os.listdir(idir) if '.xyz' in f]"
   ]
  },
  {
   "cell_type": "code",
   "execution_count": 32,
   "metadata": {},
   "outputs": [
    {
     "name": "stdout",
     "output_type": "stream",
     "text": [
      "adamantane.xyz -390.64584577442065\n",
      "hexane.xyz -237.0193246256627\n",
      "ethane.xyz -79.80161121687358\n",
      "1.xyz -464.34545874433314\n",
      "22.xyz -464.29072311389405\n",
      "ethyne.xyz -77.29672390815554\n",
      "bicycoct.xyz -313.22053470924266\n",
      "methane.xyz -40.49934489028877\n",
      "31.xyz -464.2656489437117\n",
      "ethylene.xyz -78.55705245512605\n",
      "octane-a.xyz -315.622502067554\n",
      "octane-b.xyz -315.6282591028911\n"
     ]
    }
   ],
   "source": [
    "for f in files:\n",
    "#     X,S,Na,c = hdt.readxyz2(idir + f)\n",
    "    \n",
    "#     aens.set_molecule(X[0],S)\n",
    "#     E,F,s = aens.compute_mean_props()\n",
    "    # Load molecule\n",
    "    mol = read(idir+f)\n",
    "    \n",
    "    # Set ANI calculator\n",
    "    mol.set_calculator(ANIENS(aens))\n",
    "\n",
    "    spc = mol.get_chemical_symbols()\n",
    "\n",
    "    # Optimize molecule\n",
    "    dyn = LBFGS(mol,logfile='LOG.OUT')\n",
    "    dyn.run(fmax=100.0,steps=10000)\n",
    "    print(f,(hdt.evtokcal/hdt.hatokcal)*mol.get_potential_energy())\n",
    "    \n",
    "    "
   ]
  },
  {
   "cell_type": "code",
   "execution_count": null,
   "metadata": {
    "collapsed": true
   },
   "outputs": [],
   "source": []
  }
 ],
 "metadata": {
  "kernelspec": {
   "display_name": "Python 3",
   "language": "python",
   "name": "python3"
  },
  "language_info": {
   "codemirror_mode": {
    "name": "ipython",
    "version": 3
   },
   "file_extension": ".py",
   "mimetype": "text/x-python",
   "name": "python",
   "nbconvert_exporter": "python",
   "pygments_lexer": "ipython3",
   "version": "3.6.3"
  }
 },
 "nbformat": 4,
 "nbformat_minor": 2
}
