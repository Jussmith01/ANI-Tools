{
 "cells": [
  {
   "cell_type": "code",
   "execution_count": null,
   "metadata": {
    "collapsed": true
   },
   "outputs": [],
   "source": [
    "from rdkit import Chem\n",
    "import pyaniasetools as pya\n",
    "\n",
    "from ase_interface import ANIENS,ensemblemolecule\n",
    "import hdnntools as hdt\n",
    "import numpy as np\n",
    "\n",
    "%matplotlib inline\n",
    "import matplotlib as mpl\n",
    "import matplotlib.pyplot as plt\n",
    "\n",
    "import  ase\n",
    "from ase.optimize import BFGS, LBFGS\n",
    "\n",
    "import time"
   ]
  },
  {
   "cell_type": "code",
   "execution_count": 2,
   "metadata": {
    "collapsed": true
   },
   "outputs": [],
   "source": [
    "nets = dict()\n",
    "\n",
    "ntdir = '/home/jsmith48/scratch/ANI-2x_retrain/ani-2x-1/'\n",
    "#ntdir = '/home/jsmith48/scratch/transfer_learning/train_ens_DFTTZ/'\n",
    "nets['ANI-2x']= {'cns' : ntdir + 'rHCNOSFCl-4.6R_16-3.1A_a4-8.params',\n",
    "                 'sae' : ntdir + 'sae_linfit.dat',\n",
    "                 'nnf' : ntdir + 'train',\n",
    "                 'Nn'  : 8}"
   ]
  },
  {
   "cell_type": "code",
   "execution_count": 3,
   "metadata": {
    "collapsed": true
   },
   "outputs": [],
   "source": [
    "ens = ensemblemolecule(nets['ANI-2x']['cns'], nets['ANI-2x']['sae'], nets['ANI-2x']['nnf'], nets['ANI-2x']['Nn'], 1)"
   ]
  },
  {
   "cell_type": "code",
   "execution_count": 4,
   "metadata": {},
   "outputs": [
    {
     "name": "stderr",
     "output_type": "stream",
     "text": [
      "/apps/ase/ase/atoms.py:1358: UserWarning: Please use new API (which will return the angle in degrees): atoms_obj.get_dihedral(a1,a2,a3,a4)*pi/180 instead of atoms_obj.get_dihedral([a1,a2,a3,a4])\n",
      "  'Please use new API (which will return the angle in degrees): '\n"
     ]
    },
    {
     "name": "stdout",
     "output_type": "stream",
     "text": [
      "Phi value (degrees), energy (kcal/mol), sigma=  [180.0] -501992.09 0.53\n",
      "Phi value (degrees), energy (kcal/mol), sigma=  [189.99999988570679] -501991.91 0.53\n",
      "Phi value (degrees), energy (kcal/mol), sigma=  [200.00000230049736] -501991.38 0.51\n",
      "Phi value (degrees), energy (kcal/mol), sigma=  [209.99999627596645] -501990.53 0.49\n",
      "Phi value (degrees), energy (kcal/mol), sigma=  [219.99999595303456] -501989.41 0.47\n",
      "Phi value (degrees), energy (kcal/mol), sigma=  [229.99999533121243] -501988.14 0.47\n",
      "Phi value (degrees), energy (kcal/mol), sigma=  [239.99999083896077] -501986.94 0.47\n",
      "Phi value (degrees), energy (kcal/mol), sigma=  [250.00000532107293] -501986.24 0.46\n",
      "Phi value (degrees), energy (kcal/mol), sigma=  [259.99999765302266] -501986.13 0.45\n",
      "Phi value (degrees), energy (kcal/mol), sigma=  [270.00002982752494] -501986.16 0.45\n",
      "Phi value (degrees), energy (kcal/mol), sigma=  [280.0000000983888] -501986.18 0.48\n",
      "Phi value (degrees), energy (kcal/mol), sigma=  [290.00000596726386] -501986.25 0.52\n",
      "Phi value (degrees), energy (kcal/mol), sigma=  [300.00000667658014] -501986.94 0.53\n",
      "Phi value (degrees), energy (kcal/mol), sigma=  [309.99999577979685] -501987.67 0.54\n",
      "Phi value (degrees), energy (kcal/mol), sigma=  [320.00000040722585] -501988.30 0.55\n",
      "Phi value (degrees), energy (kcal/mol), sigma=  [330.0000004461856] -501988.95 0.54\n",
      "Phi value (degrees), energy (kcal/mol), sigma=  [339.99999739903205] -501989.66 0.52\n",
      "Phi value (degrees), energy (kcal/mol), sigma=  [350.00000053679287] -501990.13 0.52\n",
      "Phi value (degrees), energy (kcal/mol), sigma=  [359.99999829245274] -501990.28 0.52\n",
      "Phi value (degrees), energy (kcal/mol), sigma=  [9.999999538739786] -501990.13 0.52\n",
      "Phi value (degrees), energy (kcal/mol), sigma=  [20.000001370453703] -501989.66 0.52\n",
      "Phi value (degrees), energy (kcal/mol), sigma=  [30.000000284525786] -501988.95 0.54\n",
      "Phi value (degrees), energy (kcal/mol), sigma=  [40.00000015460986] -501988.30 0.55\n",
      "Phi value (degrees), energy (kcal/mol), sigma=  [50.000001916054984] -501987.67 0.54\n",
      "Phi value (degrees), energy (kcal/mol), sigma=  [60.00000248817561] -501986.94 0.53\n",
      "Phi value (degrees), energy (kcal/mol), sigma=  [69.99999596779482] -501986.25 0.52\n",
      "Phi value (degrees), energy (kcal/mol), sigma=  [80.00000557409558] -501986.18 0.48\n",
      "Phi value (degrees), energy (kcal/mol), sigma=  [89.99994522537179] -501986.16 0.45\n",
      "Phi value (degrees), energy (kcal/mol), sigma=  [99.99999842639976] -501986.13 0.45\n",
      "Phi value (degrees), energy (kcal/mol), sigma=  [110.00000809238617] -501986.24 0.46\n",
      "Phi value (degrees), energy (kcal/mol), sigma=  [120.00000193449846] -501986.94 0.47\n",
      "Phi value (degrees), energy (kcal/mol), sigma=  [129.99999546961763] -501988.14 0.47\n",
      "Phi value (degrees), energy (kcal/mol), sigma=  [140.00000335432526] -501989.41 0.47\n",
      "Phi value (degrees), energy (kcal/mol), sigma=  [149.9999992167747] -501990.53 0.49\n",
      "Phi value (degrees), energy (kcal/mol), sigma=  [160.00000091518984] -501991.38 0.51\n",
      "Phi value (degrees), energy (kcal/mol), sigma=  [170.00000038651405] -501991.91 0.53\n",
      "Phi value (degrees), energy (kcal/mol), sigma=  [180.00000505099302] -501992.09 0.53\n",
      "24.07955265045166\n"
     ]
    }
   ],
   "source": [
    "mol = Chem.MolFromMolFile('/home/jsmith48/scratch/ANI-2x_retrain/dhl_test/thienyl-pyridine-2-2.mol', removeHs=False)\n",
    "\n",
    "ts = pya.ani_tortion_scanner(ens, fmax=0.001, printer=True)\n",
    "\n",
    "torsions = {'Phi':[6, 2, 8, 16]}\n",
    "\n",
    "st = time.time()\n",
    "p,e,s = ts.scan_tortion(mol, torsions, 10.0, 37)\n",
    "print(time.time()-st)"
   ]
  },
  {
   "cell_type": "code",
   "execution_count": 5,
   "metadata": {},
   "outputs": [
    {
     "data": {
      "image/png": "[encoded data removed]",
      "text/plain": [
       "<matplotlib.figure.Figure at 0x2b9ebdd494e0>"
      ]
     },
     "metadata": {},
     "output_type": "display_data"
    }
   ],
   "source": [
    "plt.errorbar(p,e-e.min(),yerr=s)\n",
    "plt.show()"
   ]
  },
  {
   "cell_type": "code",
   "execution_count": null,
   "metadata": {
    "collapsed": true
   },
   "outputs": [],
   "source": [
    "X_tmp, S = pya.__convert_rdkitconfs_to_nparr__(mol)\n",
    "print(idx)\n",
    "hdt.writexyzfile('/home/jsmith48/scratch/ANI-2x_retrain/dhl_test/test_dhl.xyz',ts.X,list(S))"
   ]
  },
  {
   "cell_type": "code",
   "execution_count": null,
   "metadata": {
    "collapsed": true
   },
   "outputs": [],
   "source": [
    "from scipy.ndimage import zoom \n",
    "\n",
    "n_zoom = 8\n",
    "data_x = zoom(p[:,:,0],n_zoom,order=1)\n",
    "data_y = zoom(p[:,:,1],n_zoom,order=1)\n",
    "data_z = zoom(e-e.min(),n_zoom,order=1)\n",
    "\n",
    "fig = plt.figure(figsize=(18,12))\n",
    "plt.style.use('seaborn-white')\n",
    "contours = plt.contour(data_x, data_y, data_z, 30, colors='black')\n",
    "plt.clabel(contours, inline=True, fontsize=12)\n",
    "\n",
    "im1 = plt.imshow(data_z.T, extent=[data_x.min(), data_x.max(), data_y.min(), data_y.max()], origin='lower',\n",
    "           cmap='nipy_spectral', alpha=1.0, interpolation='gaussian')\n",
    "\n",
    "print(im1)\n",
    "plt.xlabel('Phi',fontsize=22)\n",
    "plt.ylabel('Psi',fontsize=22)\n",
    "\n",
    "plt.colorbar()\n",
    "plt.axis(aspect='image');"
   ]
  },
  {
   "cell_type": "code",
   "execution_count": null,
   "metadata": {
    "collapsed": true
   },
   "outputs": [],
   "source": [
    "n_zoom = 20\n",
    "\n",
    "data_x = zoom(p[:,:,0],n_zoom,order=1)\n",
    "data_y = zoom(p[:,:,1],n_zoom,order=1)\n",
    "data_z = zoom(s,n_zoom,order=1)\n",
    "\n",
    "fig = plt.figure(figsize=(18,12))\n",
    "plt.style.use('seaborn-white')\n",
    "contours = plt.contour(data_x, data_y, data_z, 10, colors='black')\n",
    "plt.clabel(contours, inline=True, fontsize=12)\n",
    "\n",
    "im1 = plt.imshow(data_z.T, extent=[data_x.min(), data_x.max(), data_y.min(), data_y.max()], origin='lower',\n",
    "           cmap='nipy_spectral', alpha=1.0, interpolation='gaussian')\n",
    "\n",
    "print(im1)\n",
    "\n",
    "plt.colorbar()\n",
    "plt.axis(aspect='image');"
   ]
  },
  {
   "cell_type": "code",
   "execution_count": null,
   "metadata": {
    "collapsed": true
   },
   "outputs": [],
   "source": [
    "def get_angle_pos(find_idx,rho):\n",
    "    ids = []\n",
    "    for i,ps in enumerate(rho):\n",
    "        for j,pe in enumerate(ps):\n",
    "            if np.allclose(np.array(find_idx),pe):\n",
    "                ids.append((i,j))\n",
    "    return ids"
   ]
  },
  {
   "cell_type": "code",
   "execution_count": null,
   "metadata": {
    "collapsed": true
   },
   "outputs": [],
   "source": [
    "pos1 = get_angle_pos([-90.0,60.0],p)\n",
    "pos2 = get_angle_pos([-150.0,150.0],p)\n",
    "pos3 = get_angle_pos([60.0,-90.0],p)\n",
    "print(pos1+pos2+pos3)"
   ]
  },
  {
   "cell_type": "code",
   "execution_count": null,
   "metadata": {
    "collapsed": true
   },
   "outputs": [],
   "source": [
    "E = []\n",
    "D = []\n",
    "for ind in pos1+pos2+pos3:\n",
    "    ase_mol = pya.__convert_rdkitmol_to_aseatoms__(mol)\n",
    "    ase_mol.set_positions(ts.X[ind])\n",
    "    ase_mol.set_calculator(ANIENS(ens))\n",
    "    dyn = LBFGS(ase_mol, logfile='out.log')\n",
    "    dyn.run(fmax=0.0005)\n",
    "    E.append(ase_mol.get_potential_energy())\n",
    "    D.append(np.array([ase_mol.get_dihedral(torsions['Phi'])*180.0/np.pi,ase_mol.get_dihedral(torsions['Psi'])*180.0/np.pi]))\n",
    "E = np.array(E)\n",
    "D = np.stack(D)\n",
    "print(E)\n",
    "print(D)"
   ]
  },
  {
   "cell_type": "code",
   "execution_count": null,
   "metadata": {
    "collapsed": true
   },
   "outputs": [],
   "source": [
    "hdt.evtokcal*(E-E.min())"
   ]
  },
  {
   "cell_type": "code",
   "execution_count": null,
   "metadata": {
    "collapsed": true
   },
   "outputs": [],
   "source": [
    "D[np.where(D>180.0)] = D[np.where(D>180.0)]-360.0"
   ]
  },
  {
   "cell_type": "code",
   "execution_count": null,
   "metadata": {
    "collapsed": true
   },
   "outputs": [],
   "source": [
    "D"
   ]
  },
  {
   "cell_type": "code",
   "execution_count": null,
   "metadata": {
    "collapsed": true
   },
   "outputs": [],
   "source": []
  }
 ],
 "metadata": {
  "kernelspec": {
   "display_name": "Python 3",
   "language": "python",
   "name": "python3"
  },
  "language_info": {
   "codemirror_mode": {
    "name": "ipython",
    "version": 3
   },
   "file_extension": ".py",
   "mimetype": "text/x-python",
   "name": "python",
   "nbconvert_exporter": "python",
   "pygments_lexer": "ipython3",
   "version": "3.6.8"
  }
 },
 "nbformat": 4,
 "nbformat_minor": 2
}
