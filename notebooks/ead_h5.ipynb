{
 "cells": [
  {
   "cell_type": "code",
   "execution_count": 1,
   "metadata": {},
   "outputs": [
    {
     "name": "stderr",
     "output_type": "stream",
     "text": [
      "/usr/local/anaconda3/lib/python3.6/site-packages/h5py/__init__.py:36: FutureWarning: Conversion of the second argument of issubdtype from `float` to `np.floating` is deprecated. In future, it will be treated as `np.float64 == np.dtype(float).type`.\n",
      "  from ._conv import register_converters as _register_converters\n"
     ]
    }
   ],
   "source": [
    "import pyanitools as pyt"
   ]
  },
  {
   "cell_type": "code",
   "execution_count": 8,
   "metadata": {
    "collapsed": true
   },
   "outputs": [],
   "source": [
    "file = '/home/jsmith48/scratch/extensibility_test_sets/COMP6v1/ani_md_benchmark/ani_md_bench.h5'"
   ]
  },
  {
   "cell_type": "code",
   "execution_count": 9,
   "metadata": {
    "collapsed": true
   },
   "outputs": [],
   "source": [
    "adl = pyt.anidataloader(file)"
   ]
  },
  {
   "cell_type": "code",
   "execution_count": 12,
   "metadata": {},
   "outputs": [
    {
     "name": "stdout",
     "output_type": "stream",
     "text": [
      "/crd.dat/molAcetaminophen dict_keys(['path', 'cm5', 'coordinates', 'energies', 'forces', 'hirdipole', 'hirshfeld', 'lot', 'species', 'spindensities'])\n",
      "/crd.dat/molAtazanavir dict_keys(['path', 'cm5', 'coordinates', 'energies', 'forces', 'hirdipole', 'hirshfeld', 'lot', 'species', 'spindensities'])\n",
      "/crd.dat/molAtomoxetine dict_keys(['path', 'cm5', 'coordinates', 'energies', 'forces', 'hirdipole', 'hirshfeld', 'lot', 'species', 'spindensities'])\n",
      "/crd.dat/molCaffeine dict_keys(['path', 'cm5', 'coordinates', 'energies', 'forces', 'hirdipole', 'hirshfeld', 'lot', 'species', 'spindensities'])\n",
      "/crd.dat/molCapsaicin dict_keys(['path', 'cm5', 'coordinates', 'energies', 'forces', 'hirdipole', 'hirshfeld', 'lot', 'species', 'spindensities'])\n",
      "/crd.dat/molChignolinNeutral dict_keys(['path', 'cm5', 'coordinates', 'energies', 'forces', 'hirdipole', 'hirshfeld', 'lot', 'species', 'spindensities'])\n",
      "/crd.dat/molFentanyl dict_keys(['path', 'cm5', 'coordinates', 'energies', 'forces', 'hirdipole', 'hirshfeld', 'lot', 'species', 'spindensities'])\n",
      "/crd.dat/molLisdexamfetamine dict_keys(['path', 'cm5', 'coordinates', 'energies', 'forces', 'hirdipole', 'hirshfeld', 'lot', 'species', 'spindensities'])\n",
      "/crd.dat/molOseltamivir dict_keys(['path', 'cm5', 'coordinates', 'energies', 'forces', 'hirdipole', 'hirshfeld', 'lot', 'species', 'spindensities'])\n",
      "/crd.dat/molRanolazine dict_keys(['path', 'cm5', 'coordinates', 'energies', 'forces', 'hirdipole', 'hirshfeld', 'lot', 'species', 'spindensities'])\n",
      "/crd.dat/molRetinol dict_keys(['path', 'cm5', 'coordinates', 'energies', 'forces', 'hirdipole', 'hirshfeld', 'lot', 'species', 'spindensities'])\n",
      "/crd.dat/molSalbutamol dict_keys(['path', 'cm5', 'coordinates', 'energies', 'forces', 'hirdipole', 'hirshfeld', 'lot', 'species', 'spindensities'])\n",
      "/crd.dat/molTolterodine dict_keys(['path', 'cm5', 'coordinates', 'energies', 'forces', 'hirdipole', 'hirshfeld', 'lot', 'species', 'spindensities'])\n",
      "/crd.dat/molTrpCage1L2Y dict_keys(['path', 'cm5', 'coordinates', 'energies', 'forces', 'hirdipole', 'hirshfeld', 'lot', 'species', 'spindensities'])\n"
     ]
    }
   ],
   "source": [
    "for data in adl:\n",
    "    print(data['path'],data.keys())"
   ]
  },
  {
   "cell_type": "code",
   "execution_count": null,
   "metadata": {
    "collapsed": true
   },
   "outputs": [],
   "source": []
  }
 ],
 "metadata": {
  "kernelspec": {
   "display_name": "Python 3",
   "language": "python",
   "name": "python3"
  },
  "language_info": {
   "codemirror_mode": {
    "name": "ipython",
    "version": 3
   },
   "file_extension": ".py",
   "mimetype": "text/x-python",
   "name": "python",
   "nbconvert_exporter": "python",
   "pygments_lexer": "ipython3",
   "version": "3.6.4"
  }
 },
 "nbformat": 4,
 "nbformat_minor": 2
}
