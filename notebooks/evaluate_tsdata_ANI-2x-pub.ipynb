{
 "cells": [
  {
   "cell_type": "code",
   "execution_count": 1,
   "metadata": {},
   "outputs": [],
   "source": [
    "import aniensemblestats as aes\n",
    "import pandas as pd\n",
    "import os\n",
    "\n",
    "import matplotlib as mpl\n",
    "import matplotlib.pyplot as plt\n",
    "\n",
    "import numpy as np\n",
    "\n",
    "#import seaborn as sns\n",
    "pd.options.display.float_format = '{:.2f}'.format"
   ]
  },
  {
   "cell_type": "code",
   "execution_count": 2,
   "metadata": {},
   "outputs": [
    {
     "name": "stdout",
     "output_type": "stream",
     "text": [
      "/home/jujuman/Scratch/Research/ani2x_testing/2x_error_stats/strided_temp2/tsdata_50.h5\n",
      "/home/jujuman/Scratch/Research/ani2x_testing/2x_error_stats/strided_temp2/tsdata_150.h5\n",
      "/home/jujuman/Scratch/Research/ani2x_testing/2x_error_stats/strided_temp2/tsdata_300.h5\n",
      "/home/jujuman/Scratch/Research/ani2x_testing/2x_error_stats/strided_temp2/tsdata_30.h5\n",
      "/home/jujuman/Scratch/Research/ani2x_testing/2x_error_stats/strided_temp2/tsdata_200.h5\n",
      "/home/jujuman/Scratch/Research/ani2x_testing/2x_error_stats/strided_temp2/tsdata_250.h5\n",
      "/home/jujuman/Scratch/Research/ani2x_testing/2x_error_stats/strided_temp2/tsdata_10.h5\n",
      "/home/jujuman/Scratch/Research/ani2x_testing/2x_error_stats/strided_temp2/tsdata_100.h5\n"
     ]
    }
   ],
   "source": [
    "#errdir = '/home/jsmith48/scratch/ccsd_extrapolation/hp_search_darwin/hp_ani-1x/arch_l2/error_stats/'\n",
    "errdir = '/home/jujuman/Scratch/Research/ani2x_testing/2x_error_stats/strided_temp2/'\n",
    "#errdir = '/home/jsmith48/scratch/ANI-2x_retrain/error_stats/COMP6v1_all/'\n",
    "#errdir = '/home/jsmith48/scratch/ANI-2x_retrain/error_stats/temp_scale/'\n",
    "#errdir = '/home/jujuman/Research/DataReductionMethods/train_test/error_compare/'\n",
    "#tex_store = \"/home/jsmith48/scratch/ANI-2x_retrain/error_stats/COMP6v1_all/AllTests_results_mean.tex\"\n",
    "#xls_store = \"/home/jsmith48/scratch/ANI-2x_retrain/error_stats/COMP6v1_all/AllTests_results_mean.xlsx\"\n",
    "#tex_store = \"/home/jsmith48/scratch/ANI-2x_retrain/error_stats/COMP6v1_all/AllTests_results.tex\"\n",
    "\n",
    "#errdir = '/home/jujuman/Research/DataReductionMethods/model6r/error_compare/emax_compare/'\n",
    "#tex_store = \"/home/jujuman/Dropbox/ANAKIN-ME-RESEARCH/PUBLICATION-ActiveLearning/tables/Emax_results_mean.tex\"\n",
    "#xls_store = \"/home/jujuman/Dropbox/ANAKIN-ME-RESEARCH/PUBLICATION-ActiveLearning/tables/Emax_results_mean.xlsx\"\n",
    "\n",
    "#errdir = '/home/jujuman/Research/DataReductionMethods/al_working_network/error_compare/'\n",
    "\n",
    "#errdir = '/home/jujuman/Research/DataReductionMethods/train_test/error_compare/'\n",
    "#tex_store = \"/home/jujuman/Research/DataReductionMethods/al_working_network/tables/AllTests_results_mean.tex\"\n",
    "#xls_store = \"/home/jujuman/Research/DataReductionMethods/al_working_network/tables/AllTests_results_mean.xlsx\"\n",
    "\n",
    "efiles = [errdir+f for f in os.listdir(errdir)]\n",
    "tsname = [#'TriPep    (S)',\n",
    "           #'TriPep (CHNO)',\n",
    "           #'DrugBk (SFCl)',\n",
    "            #'DrugBk (CHNO)',\n",
    "            #'GDB-07to09 (SFCl)',\n",
    "            #'GDB-10to11 (SFCl)',\n",
    "            #'GDB-07to09 (CHNO)',\n",
    "            #'GDB-10to13 (CHNO)',\n",
    "            'MDBenchmark',\n",
    "            's66x8',\n",
    "            'TriPep',\n",
    "            'DrugBk',\n",
    "            'GDB-07to09',\n",
    "            'GDB-10to11',\n",
    "            'GDB-12to13',\n",
    "          #'r10_ccsd',\n",
    "          #'GDB-10to13',\n",
    "#          'DrugBank',\n",
    "#          'Tripeptide',\n",
    "#          'GDB07to09',\n",
    "#          'MDBenchmark',\n",
    "#          'GDB10to13',\n",
    "#          's66x8',\n",
    "         ]\n",
    "\n",
    "'''\n",
    "efiles = [errdir+f for f in os.listdir(errdir)]\n",
    "tsname = ['DrugBk (SFCl)',\n",
    "          'DrugBk (CHNO)',\n",
    "          'GDB-07 (SFCl)',\n",
    "          'GDB-08 (SFCl)',\n",
    "          'GDB-09 (SFCl)',\n",
    "          'GDB-10 (SFCl)',\n",
    "          'GDB-11 (SFCl)',\n",
    "          'GDB-07 (CHNO)',\n",
    "          'GDB-08 (CHNO)',\n",
    "          'GDB-09 (CHNO)',\n",
    "          'GDB-10 (CHNO)',\n",
    "          'GDB-11 (CHNO)',\n",
    "         ]\n",
    "'''\n",
    "\n",
    "for i in efiles:\n",
    "    print(i)"
   ]
  },
  {
   "cell_type": "code",
   "execution_count": 3,
   "metadata": {},
   "outputs": [],
   "source": [
    "eed = aes.evaluate_ensemble_data(efiles)"
   ]
  },
  {
   "cell_type": "code",
   "execution_count": 5,
   "metadata": {},
   "outputs": [
    {
     "ename": "KeyError",
     "evalue": "'DrugBank'",
     "output_type": "error",
     "traceback": [
      "\u001b[0;31m---------------------------------------------------------------------------\u001b[0m",
      "\u001b[0;31mKeyError\u001b[0m                                  Traceback (most recent call last)",
      "\u001b[0;32m<ipython-input-5-11f55a584783>\u001b[0m in \u001b[0;36m<module>\u001b[0;34m\u001b[0m\n\u001b[0;32m----> 1\u001b[0;31m \u001b[0meed\u001b[0m\u001b[0;34m.\u001b[0m\u001b[0mget_error_table\u001b[0m\u001b[0;34m(\u001b[0m\u001b[0;34m\"DrugBank\"\u001b[0m\u001b[0;34m)\u001b[0m\u001b[0;34m\u001b[0m\u001b[0;34m\u001b[0m\u001b[0m\n\u001b[0m",
      "\u001b[0;32m~/Gits/ANI-Tools/lib/aniensemblestats.py\u001b[0m in \u001b[0;36mget_error_table\u001b[0;34m(self, tskey)\u001b[0m\n\u001b[1;32m    537\u001b[0m         \u001b[0merrors\u001b[0m \u001b[0;34m=\u001b[0m \u001b[0mdict\u001b[0m\u001b[0;34m(\u001b[0m\u001b[0;34m)\u001b[0m\u001b[0;34m\u001b[0m\u001b[0;34m\u001b[0m\u001b[0m\n\u001b[1;32m    538\u001b[0m         \u001b[0;32mfor\u001b[0m \u001b[0mk\u001b[0m \u001b[0;32min\u001b[0m \u001b[0mself\u001b[0m\u001b[0;34m.\u001b[0m\u001b[0mfdata\u001b[0m\u001b[0;34m.\u001b[0m\u001b[0mkeys\u001b[0m\u001b[0;34m(\u001b[0m\u001b[0;34m)\u001b[0m\u001b[0;34m:\u001b[0m\u001b[0;34m\u001b[0m\u001b[0;34m\u001b[0m\u001b[0m\n\u001b[0;32m--> 539\u001b[0;31m             \u001b[0merrors\u001b[0m\u001b[0;34m[\u001b[0m\u001b[0mk\u001b[0m\u001b[0;34m]\u001b[0m \u001b[0;34m=\u001b[0m \u001b[0mpd\u001b[0m\u001b[0;34m.\u001b[0m\u001b[0mSeries\u001b[0m\u001b[0;34m(\u001b[0m\u001b[0mself\u001b[0m\u001b[0;34m.\u001b[0m\u001b[0mgenerate_total_errors\u001b[0m\u001b[0;34m(\u001b[0m\u001b[0mk\u001b[0m\u001b[0;34m,\u001b[0m\u001b[0mtskey\u001b[0m\u001b[0;34m)\u001b[0m\u001b[0;34m)\u001b[0m\u001b[0;34m\u001b[0m\u001b[0;34m\u001b[0m\u001b[0m\n\u001b[0m\u001b[1;32m    540\u001b[0m         \u001b[0mpd\u001b[0m\u001b[0;34m.\u001b[0m\u001b[0mset_option\u001b[0m\u001b[0;34m(\u001b[0m\u001b[0;34m'expand_frame_repr'\u001b[0m\u001b[0;34m,\u001b[0m \u001b[0;32mFalse\u001b[0m\u001b[0;34m)\u001b[0m\u001b[0;34m\u001b[0m\u001b[0;34m\u001b[0m\u001b[0m\n\u001b[1;32m    541\u001b[0m         \u001b[0medat\u001b[0m \u001b[0;34m=\u001b[0m \u001b[0mpd\u001b[0m\u001b[0;34m.\u001b[0m\u001b[0mDataFrame\u001b[0m\u001b[0;34m(\u001b[0m\u001b[0merrors\u001b[0m\u001b[0;34m)\u001b[0m\u001b[0;34m.\u001b[0m\u001b[0mtranspose\u001b[0m\u001b[0;34m(\u001b[0m\u001b[0;34m)\u001b[0m\u001b[0;34m\u001b[0m\u001b[0;34m\u001b[0m\u001b[0m\n",
      "\u001b[0;32m~/Gits/ANI-Tools/lib/aniensemblestats.py\u001b[0m in \u001b[0;36mgenerate_total_errors\u001b[0;34m(self, ntkey, tskey)\u001b[0m\n\u001b[1;32m    404\u001b[0m     \u001b[0;32mdef\u001b[0m \u001b[0mgenerate_total_errors\u001b[0m\u001b[0;34m(\u001b[0m\u001b[0mself\u001b[0m\u001b[0;34m,\u001b[0m \u001b[0mntkey\u001b[0m\u001b[0;34m,\u001b[0m \u001b[0mtskey\u001b[0m\u001b[0;34m)\u001b[0m\u001b[0;34m:\u001b[0m\u001b[0;34m\u001b[0m\u001b[0;34m\u001b[0m\u001b[0m\n\u001b[1;32m    405\u001b[0m         \u001b[0;31m#idx = np.nonzero(self.fdata[ntkey][tskey]['Erdft'])\u001b[0m\u001b[0;34m\u001b[0m\u001b[0;34m\u001b[0m\u001b[0;34m\u001b[0m\u001b[0m\n\u001b[0;32m--> 406\u001b[0;31m         \u001b[0mNn\u001b[0m \u001b[0;34m=\u001b[0m \u001b[0mself\u001b[0m\u001b[0;34m.\u001b[0m\u001b[0mfdata\u001b[0m\u001b[0;34m[\u001b[0m\u001b[0mntkey\u001b[0m\u001b[0;34m]\u001b[0m\u001b[0;34m[\u001b[0m\u001b[0mtskey\u001b[0m\u001b[0;34m]\u001b[0m\u001b[0;34m[\u001b[0m\u001b[0;34m'Eani'\u001b[0m\u001b[0;34m]\u001b[0m\u001b[0;34m.\u001b[0m\u001b[0mshape\u001b[0m\u001b[0;34m[\u001b[0m\u001b[0;36m0\u001b[0m\u001b[0;34m]\u001b[0m\u001b[0;34m-\u001b[0m\u001b[0;36m1\u001b[0m\u001b[0;34m\u001b[0m\u001b[0;34m\u001b[0m\u001b[0m\n\u001b[0m\u001b[1;32m    407\u001b[0m         return {names[0]: hdt.calculatemeanabserror(self.fdata[ntkey][tskey]['Eani'][Nn,:], self.fdata[ntkey][tskey]['Edft']),\n\u001b[1;32m    408\u001b[0m                 \u001b[0mnames\u001b[0m\u001b[0;34m[\u001b[0m\u001b[0;36m1\u001b[0m\u001b[0;34m]\u001b[0m\u001b[0;34m:\u001b[0m \u001b[0mnp\u001b[0m\u001b[0;34m.\u001b[0m\u001b[0mstd\u001b[0m\u001b[0;34m(\u001b[0m\u001b[0mhdt\u001b[0m\u001b[0;34m.\u001b[0m\u001b[0mcalculatemeanabserror\u001b[0m\u001b[0;34m(\u001b[0m\u001b[0mself\u001b[0m\u001b[0;34m.\u001b[0m\u001b[0mfdata\u001b[0m\u001b[0;34m[\u001b[0m\u001b[0mntkey\u001b[0m\u001b[0;34m]\u001b[0m\u001b[0;34m[\u001b[0m\u001b[0mtskey\u001b[0m\u001b[0;34m]\u001b[0m\u001b[0;34m[\u001b[0m\u001b[0;34m'Eani'\u001b[0m\u001b[0;34m]\u001b[0m\u001b[0;34m[\u001b[0m\u001b[0;36m0\u001b[0m\u001b[0;34m:\u001b[0m\u001b[0mNn\u001b[0m\u001b[0;34m,\u001b[0m\u001b[0;34m:\u001b[0m\u001b[0;34m]\u001b[0m\u001b[0;34m,\u001b[0m \u001b[0mself\u001b[0m\u001b[0;34m.\u001b[0m\u001b[0mfdata\u001b[0m\u001b[0;34m[\u001b[0m\u001b[0mntkey\u001b[0m\u001b[0;34m]\u001b[0m\u001b[0;34m[\u001b[0m\u001b[0mtskey\u001b[0m\u001b[0;34m]\u001b[0m\u001b[0;34m[\u001b[0m\u001b[0;34m'Edft'\u001b[0m\u001b[0;34m]\u001b[0m\u001b[0;34m,\u001b[0m \u001b[0maxis\u001b[0m\u001b[0;34m=\u001b[0m\u001b[0;36m1\u001b[0m\u001b[0;34m)\u001b[0m\u001b[0;34m)\u001b[0m\u001b[0;34m,\u001b[0m\u001b[0;34m\u001b[0m\u001b[0;34m\u001b[0m\u001b[0m\n",
      "\u001b[0;31mKeyError\u001b[0m: 'DrugBank'"
     ]
    }
   ],
   "source": [
    "eed.get_error_table(\"DrugBank\")"
   ]
  },
  {
   "cell_type": "code",
   "execution_count": null,
   "metadata": {
    "scrolled": false
   },
   "outputs": [],
   "source": [
    "#eed.get_ntwrk_error_table('ANI-2x_tz').to_csv('ani-2x_tz-COMP6_results_comb.csv')"
   ]
  },
  {
   "cell_type": "code",
   "execution_count": null,
   "metadata": {},
   "outputs": [],
   "source": [
    "eed.get_ntwrk_error_table('50')"
   ]
  },
  {
   "cell_type": "code",
   "execution_count": null,
   "metadata": {},
   "outputs": [],
   "source": [
    "eed.get_ntwrk_error_table('ANI-2x_v62518_10')"
   ]
  },
  {
   "cell_type": "code",
   "execution_count": null,
   "metadata": {},
   "outputs": [],
   "source": [
    "eed.get_ntwrk_error_table('ANI-2x_v62518_25')"
   ]
  },
  {
   "cell_type": "code",
   "execution_count": null,
   "metadata": {},
   "outputs": [],
   "source": [
    "eed.get_ntwrk_error_table('ANI-2x_v62518_50')"
   ]
  },
  {
   "cell_type": "code",
   "execution_count": null,
   "metadata": {},
   "outputs": [],
   "source": [
    "eed.get_ntwrk_error_table('ANI-2x_v62518_100')"
   ]
  },
  {
   "cell_type": "code",
   "execution_count": null,
   "metadata": {},
   "outputs": [],
   "source": [
    "eed.get_ntwrk_error_table('ANI-2x_v62518_200')"
   ]
  },
  {
   "cell_type": "code",
   "execution_count": null,
   "metadata": {},
   "outputs": [],
   "source": [
    "E200 = eed.get_ntwrk_error_table('30')\n",
    "te = eed.get_totalerror_table() # All errors combined\n",
    "print(E200.keys())\n",
    "print(E200['$\\Delta$E$_\\mathrm{MAE}$$\\mu$'].keys())\n",
    "print(E200['$\\Delta$E$_\\mathrm{MAE}$$\\mu$'])"
   ]
  },
  {
   "cell_type": "code",
   "execution_count": null,
   "metadata": {},
   "outputs": [],
   "source": [
    "labels = ['DrugBank (CHNO+SFCl)',\n",
    "          'GDB-07to09 (CHNO+SFCl)',\n",
    "          'GDB-10to11 (CHNO+SFCl)',\n",
    "          'GDB-12to13 (CHNO)',\n",
    "          'MD Benchmark (CHNO)',\n",
    "          'Tripeptides (CHNO+S)',\n",
    "          's66x8 (CHNO)']\n",
    "\n",
    "values1 = np.array(E200['$\\Delta$E$_\\mathrm{MAE}$$\\mu$'])\n",
    "values2 = np.array(E200['E$_\\mathrm{MAE}$$\\mu$'])\n",
    "values3 = np.array(E200['F$_\\mathrm{MAE}$$\\mu$'])\n",
    "\n",
    "error1 = np.array(E200['$\\Delta$E$_\\mathrm{MAE}$$\\sigma$'])\n",
    "error2 = np.array(E200['E$_\\mathrm{MAE}$$\\sigma$'])\n",
    "error3 = np.array(E200['F$_\\mathrm{MAE}$$\\sigma$'])\n",
    "\n",
    "f, ax = plt.subplots(2,3, sharey=False, sharex=False,figsize=(10, 6), dpi= 300, facecolor='w', edgecolor='k')\n",
    "\n",
    "ax[0,0].barh(labels, values1, xerr=error1, align='center',\n",
    "        color='red', ecolor='black')\n",
    "ax[0,0].text(-0.1, 1.05, 'a', fontsize=22, verticalalignment='center', horizontalalignment='center', transform=ax[0,0].transAxes)\n",
    "ax[0,0].set_title('Relative Energy')\n",
    "#ax[0,0].text(0.8, 0.85, 'MAE', fontsize=16, verticalalignment='center', horizontalalignment='center', \n",
    "#             transform=ax[0,0].transAxes, bbox={'facecolor':'white', 'alpha':0.5, 'pad':5})\n",
    "\n",
    "ax[0,1].barh(labels, values2, xerr=error2, align='center',\n",
    "        color='green', ecolor='black')\n",
    "ax[0,1].text(-0.1, 1.05, 'b', fontsize=22, verticalalignment='center', horizontalalignment='center', transform=ax[0,1].transAxes)\n",
    "ax[0,1].set_title('Energy')\n",
    "ax[0,1].set_yticklabels([])\n",
    "#ax[0,1].text(0.8, 0.85, 'MAE', fontsize=16, verticalalignment='center', horizontalalignment='center', \n",
    "#             transform=ax[0,1].transAxes, bbox={'facecolor':'white', 'alpha':0.5, 'pad':5})\n",
    "\n",
    "ax[0,2].barh(labels, values3, xerr=error3, align='center',\n",
    "        color='blue', ecolor='black')\n",
    "ax[0,2].text(-0.1, 1.05, 'c', fontsize=22, verticalalignment='center', horizontalalignment='center', transform=ax[0,2].transAxes)\n",
    "ax[0,2].set_title('Force')\n",
    "ax[0,2].set_yticklabels([])\n",
    "\n",
    "dmae = te['$\\Delta$E$_\\mathrm{MAE}$$\\mu$']\n",
    "drms = te['$\\Delta$E$_\\mathrm{RMS}$$\\mu$']\n",
    "\n",
    "emae = te['E$_\\mathrm{MAE}$$\\mu$']\n",
    "erms = te['E$_\\mathrm{RMS}$$\\mu$']\n",
    "\n",
    "fmae = te['F$_\\mathrm{MAE}$$\\mu$']\n",
    "frms = te['F$_\\mathrm{RMS}$$\\mu$']\n",
    "\n",
    "idxd = np.argsort(dmae)\n",
    "idxe = np.argsort(emae)\n",
    "idxf = np.argsort(fmae)\n",
    "\n",
    "x = [10,30,50,100,150,200,250,300]\n",
    "\n",
    "ax[1,0].semilogy(dmae[idxd],x,'-o',label='MAE')\n",
    "#ax[1,0].plot(drms[idxd],x,'-o',label='RMSE')\n",
    "ax[1,0].text(-0.1, 1.05, 'd', fontsize=22, verticalalignment='center', horizontalalignment='center', transform=ax[1,0].transAxes)\n",
    "ax[1,0].set_ylabel('Conformer relative energy range\\n'+r'$\\mathrm{kcal \\times mol^{-1}}$',fontsize=12)\n",
    "ax[1,0].set_xlabel(r'MAE[$\\mathrm{\\Delta E}$] $\\mathrm{kcal \\times mol^{-1}}$',fontsize=12)\n",
    "#ax[1,0].legend(fontsize=12)\n",
    "\n",
    "ax[1,1].semilogy(emae[idxe],x,'-o',label='MAE')\n",
    "#ax[1,1].plot(erms[idxe],x,'-o',label='RMSE')\n",
    "ax[1,1].text(-0.1, 1.05, 'e', fontsize=22, verticalalignment='center', horizontalalignment='center', transform=ax[1,1].transAxes)\n",
    "ax[1,1].set_xlabel(r'MAE[$\\mathrm{E}$] $\\mathrm{kcal \\times mol^{-1}}$',fontsize=12)\n",
    "#ax[1,1].legend(fontsize=12)\n",
    "\n",
    "ax[1,2].semilogy(fmae[idxf],x,'-o',label='MAE')\n",
    "#ax[1,2].plot(frms[idxf],x,'-o',label='RMSE')\n",
    "ax[1,2].text(-0.1, 1.05, 'f', fontsize=22, verticalalignment='center', horizontalalignment='center', transform=ax[1,2].transAxes)\n",
    "ax[1,2].set_xlabel(r'MAE[$\\mathrm{F}$] $\\mathrm{kcal \\times mol^{-1} \\times \\AA^{-1}}$',fontsize=12)\n",
    "#ax[1,2].legend(fontsize=12)\n",
    "\n",
    "plt.show()"
   ]
  },
  {
   "cell_type": "markdown",
   "metadata": {},
   "source": [
    "# ANI-1x trained to different datasets tested for extensibility"
   ]
  },
  {
   "cell_type": "code",
   "execution_count": null,
   "metadata": {
    "scrolled": false
   },
   "outputs": [],
   "source": []
  },
  {
   "cell_type": "code",
   "execution_count": null,
   "metadata": {},
   "outputs": [],
   "source": [
    "te"
   ]
  },
  {
   "cell_type": "code",
   "execution_count": null,
   "metadata": {},
   "outputs": [],
   "source": []
  },
  {
   "cell_type": "code",
   "execution_count": null,
   "metadata": {
    "scrolled": false
   },
   "outputs": [],
   "source": [
    "eed.generate_correlation_plot('ANI-2x_tz','DrugBk (SFCl)','dEani','dEdft')\n",
    "eed.generate_correlation_plot('ANI-2x_tz','DrugBk (CHNO)','Fani','Fdft')\n",
    "eed.generate_correlation_plot('ANI-2x_tz','s66x8','Fani','Fdft')\n",
    "#eed.generate_correlation_plot('CCSDT-TL','GDB-10to13','dEani','dEdft')"
   ]
  },
  {
   "cell_type": "code",
   "execution_count": null,
   "metadata": {
    "scrolled": false
   },
   "outputs": [],
   "source": [
    "eed.generate_violin_distribution_byts('ANI-2x_v62518')\n",
    "#eed.generate_correlation_plot('ANI-AL-0808.0303.0416','DrugBk (CHNO)','Fani','Fdft')"
   ]
  },
  {
   "cell_type": "code",
   "execution_count": null,
   "metadata": {},
   "outputs": [],
   "source": [
    "eed.get_error_table(tskey='TriPep')"
   ]
  },
  {
   "cell_type": "code",
   "execution_count": null,
   "metadata": {},
   "outputs": [],
   "source": [
    "eed.get_error_table(tskey='TriPep (CHNO)')"
   ]
  },
  {
   "cell_type": "code",
   "execution_count": null,
   "metadata": {},
   "outputs": [],
   "source": [
    "eed.get_error_table(tskey='DrugBk')"
   ]
  },
  {
   "cell_type": "code",
   "execution_count": null,
   "metadata": {},
   "outputs": [],
   "source": [
    "eed.get_error_table(tskey='DrugBk (CHNO)')"
   ]
  },
  {
   "cell_type": "code",
   "execution_count": null,
   "metadata": {},
   "outputs": [],
   "source": [
    "eed.get_error_table(tskey='GDB-07to09')"
   ]
  },
  {
   "cell_type": "code",
   "execution_count": null,
   "metadata": {},
   "outputs": [],
   "source": [
    "eed.get_error_table(tskey='GDB-10to11')"
   ]
  },
  {
   "cell_type": "code",
   "execution_count": null,
   "metadata": {},
   "outputs": [],
   "source": [
    "eed.get_error_table(tskey='GDB07to09 (CHNO)')"
   ]
  },
  {
   "cell_type": "code",
   "execution_count": null,
   "metadata": {},
   "outputs": [],
   "source": [
    "eed.get_error_table(tskey='GDB10to13 (CHNO)')"
   ]
  },
  {
   "cell_type": "code",
   "execution_count": null,
   "metadata": {},
   "outputs": [],
   "source": [
    "eed.get_error_table(tskey='MDBenchmark')"
   ]
  },
  {
   "cell_type": "code",
   "execution_count": null,
   "metadata": {},
   "outputs": [],
   "source": [
    "eed.get_error_table(tskey='s66x8')"
   ]
  },
  {
   "cell_type": "code",
   "execution_count": null,
   "metadata": {},
   "outputs": [],
   "source": [
    "#eed.get_error_table(tskey='s66x8')"
   ]
  },
  {
   "cell_type": "code",
   "execution_count": null,
   "metadata": {
    "scrolled": false
   },
   "outputs": [],
   "source": [
    "# Create a Pandas Excel writer using XlsxWriter as the engine.\n",
    "writer = pd.ExcelWriter(xls_store, engine='xlsxwriter')\n",
    "\n",
    "# Build latex document\n",
    "header = r'\\documentclass{article}'+'\\n'+r'\\usepackage{booktabs}'+'\\n'+r'\\usepackage[margin=1.0in]{geometry}'+'\\n'+r'\\begin{document}'+'\\n'\n",
    "\n",
    "begtab = r'\\begin{table}'+'\\n'+r'\\centering'+'\\n'+r'\\tiny'+'\\n'\n",
    "endtab = r'\\end{table}'+'\\n'\n",
    "enddoc = r'\\end{document}'\n",
    "styles = []\n",
    "with open(tex_store, \"w\") as text_file:\n",
    "    text_file.write(header)\n",
    "    print('Stats for: Complete benchmark')\n",
    "    etab = eed.get_totalerror_table()\n",
    "    styles.append(etab.style)\n",
    "    text_file.write(begtab+r'\\caption{Data set: Complete benchmark}'+'\\n'+etab.to_latex(escape=False)+endtab)\n",
    "\n",
    "    # Convert the dataframe to an XlsxWriter Excel object.\n",
    "    etab.to_excel(writer, sheet_name=\"Complete Benchmark\")\n",
    "\n",
    "    paetab = eed.get_totalerrorperatom_table()\n",
    "    text_file.write(begtab+r'\\caption{Data set: Complete benchmark per atom}'+'\\n'+paetab.to_latex(escape=False)+endtab)\n",
    "    paetab.to_excel(writer, sheet_name=\"Complete Benchmark per atom\")\n",
    "    \n",
    "    \n",
    "    for k in tsname:\n",
    "        print('Stats for:',k)\n",
    "        etab = eed.get_error_table(k)\n",
    "        etab.to_excel(writer, sheet_name=k)\n",
    "        styles.append(etab.style)\n",
    "        text_file.write(begtab+r'\\caption{Data set: '+k+r'}'+'\\n'+etab.to_latex(escape=False)+endtab)\n",
    "    text_file.write(enddoc)\n",
    "styles[0]\n",
    "\n",
    "# Close the Pandas Excel writer and output the Excel file.\n",
    "writer.save()"
   ]
  },
  {
   "cell_type": "code",
   "execution_count": null,
   "metadata": {
    "scrolled": false
   },
   "outputs": [],
   "source": [
    "cmap = mpl.cm.nipy_spectral\n",
    "for i in range(1,16):\n",
    "    print('Models:',str(i+1).zfill(2))\n",
    "    eed.determine_min_error_by_sigma('ANI-1xTL'+str(i+1).zfill(2),\n",
    "                                     0.5, 50.0,\n",
    "                                     labelx=r'$\\mathrm{\\rho}$ [$\\mathrm{kcal \\times mol^{-1} \\times (\\sqrt{N_a})^{-1}}}$]',\n",
    "                                     labely=r'$\\mathrm{\\mathcal{E}}$ [$\\mathrm{kcal \\times mol^{-1} \\times (\\sqrt{N_a})^{-1}}$]',\n",
    "                                     xyrange=(0.0,2.0,0.0,12.0),\n",
    "                                     figsize=(12.0, 9.0),\n",
    "                                     cmap=cmap,\n",
    "                                     tskeys=['GDB-10to13'],\n",
    "                                     #storepath='/home/jsmith48/scratch/error_stats/rho_selection_6.0.0.pdf',\n",
    "                                     )"
   ]
  },
  {
   "cell_type": "code",
   "execution_count": null,
   "metadata": {},
   "outputs": [],
   "source": [
    "cmap = mpl.cm.nipy_spectral\n",
    "eed.determine_min_error_by_sigma('ANI-1xTL_lr-5',\n",
    "                                 0.5, 50.0,\n",
    "                                 labelx=r'$\\mathrm{\\rho}$ [$\\mathrm{kcal \\times mol^{-1} \\times (\\sqrt{N_a})^{-1}}}$]',\n",
    "                                 labely=r'$\\mathrm{\\mathcal{E}}$ [$\\mathrm{kcal \\times mol^{-1} \\times (\\sqrt{N_a})^{-1}}$]',\n",
    "                                 xyrange=(0.0,2.0,0.0,12.0),\n",
    "                                 figsize=(12.0, 9.0),\n",
    "                                 cmap=cmap,\n",
    "                                 tskeys=['GDB-10to13'],\n",
    "                                 #storepath='/home/jsmith48/scratch/error_stats/rho_selection_6.0.0.pdf',\n",
    "                                 )"
   ]
  },
  {
   "cell_type": "code",
   "execution_count": null,
   "metadata": {},
   "outputs": [],
   "source": [
    "print(eed.get_net_keys())\n",
    "#print(eed.get_size(\"9.0.5\",\"MDBenchmark\"))\n",
    "#print(eed.get_size(\"9.0.4\",\"Tripeptide\"))\n",
    "#print(eed.get_size(\"9.0.4\",\"GDB07to09\"))\n",
    "#print(eed.get_size(\"9.0.4\",\"GDB10to13\"))"
   ]
  },
  {
   "cell_type": "code",
   "execution_count": null,
   "metadata": {
    "scrolled": false
   },
   "outputs": [],
   "source": [
    "# cmap = mpl.cm.nipy_spectral\n",
    "# Erms  = []\n",
    "# dErms = []\n",
    "# for i in range(1,17):\n",
    "#     print('Models:',str(i).zfill(2))\n",
    "#     Erms.append(eed.generate_rmserror('ANI-1xTL'+str(i).zfill(2),'GDB-10to13','Eani','Edft'))\n",
    "#     dErms.append(eed.generate_rmserror('ANI-1xTL'+str(i).zfill(2),'GDB-10to13','dEani','dEdft'))\n",
    "\n",
    "eed.generate_correlation_plot('ani2x-02','GDB10to13 (CHNO)','Fani','Fdft')\n",
    "eed.generate_correlation_plot('ani2x-02','GDB-10to11 (SFCl)','Fani','Fdft')\n",
    "#eed.generate_correlation_plot('ANI-2x_3-100','DrugBk (CHNO)','dEani','dEdft')\n",
    "\n",
    "#eed.generate_correlation_plot('6.0.0','MDBenchmark','Fani','Fdft')\n",
    "#cmap = mpl.cm.nipy_spectral\n",
    "#eed.generate_correlation_plot('ANI-0707.0001.0410_bt5','GDB-11 (SFCl)','Fani','Fdft',cmap=cmap)\n",
    "#eed.generate_correlation_plot('0707.0001.0402','GDB-07 (SFCl)','dEani','dEdft')\n",
    "#eed.generate_correlation_plot('0707.0001.0402','GDB-08 (SFCl)','dEani','dEdft')\n",
    "#eed.generate_correlation_plot('0707.0001.0402','GDB-09 (SFCl)','dEani','dEdft')\n",
    "#eed.generate_correlation_plot('0707.0001.0402','GDB-10 (SFCl)','dEani','dEdft')\n",
    "#eed.generate_correlation_plot('0707.0001.0402','GDB-11 (SFCl)','dEani','dEdft')\n",
    "#eed.generate_correlation_plot('AL6','DrugBank','Fani','Fdft')\n",
    "#eed.generate_correlation_plot('ARC1','MDBenchmark','Fani','Fdft')\n",
    "#eed.generate_correlation_plot('ARC8','MDBenchmark','Fani','Fdft')"
   ]
  },
  {
   "cell_type": "code",
   "execution_count": null,
   "metadata": {},
   "outputs": [],
   "source": [
    "import numpy as np\n",
    "from matplotlib import gridspec \n",
    "\n",
    "fig = plt.subplots(figsize=[15,6])\n",
    "gs  = gridspec.GridSpec(1, 2, width_ratios=[0.5, 0.5])\n",
    "\n",
    "ax1 = plt.subplot(gs[0])\n",
    "ax2 = plt.subplot(gs[1])\n",
    "\n",
    "ax1.plot(np.arange(1,17),Erms,marker='o')\n",
    "ax1.set_title(r'E improvment with ensemble size')\n",
    "ax1.set_xlabel('Number of members')\n",
    "ax1.set_ylabel('RMSE error (kcal/mol)')\n",
    "\n",
    "ax2.plot(np.arange(1,17),dErms,marker='o')\n",
    "ax2.set_title(r'$\\Delta$E improvment with ensemble size')\n",
    "ax2.set_xlabel('Number of members')\n",
    "ax2.set_ylabel('RMSE error (kcal/mol)')\n",
    "\n",
    "plt.show()"
   ]
  },
  {
   "cell_type": "code",
   "execution_count": null,
   "metadata": {
    "scrolled": false
   },
   "outputs": [],
   "source": [
    "#eed.plot_bar_propsbynet([('Total Energy',r'RMSE ($kcal \\times mol^{-1}$)','Eani','Edft',[0.0,23.0]),\n",
    "#                         ('Relative Energy',r'RMSE ($kcal \\times mol^{-1}$)','dEani', 'dEdft',[0.0,12.0]),\n",
    "#                         ('Force',r'RMSE ($kcal \\times mol^{-1} \\times \\AA^{-1}$)','Fani', 'Fdft',[0.0,10.0])], \n",
    "#                         ['GDB07to09', 'GDB10to13', 'DrugBank', 'Tripeptide', 's66x8'],\n",
    "#                         ntwks=['6.0.0','7.0.4','8.0.6','8.3.6','9.0.4','ANI-1'],\n",
    "#                         fontsize=30, bbox_to_anchor=(0.3, 1.0), figsize=(40.0, 32.0), ncol=2, errortype='RMSE')"
   ]
  },
  {
   "cell_type": "code",
   "execution_count": null,
   "metadata": {},
   "outputs": [],
   "source": [
    "eed.plot_error_by_net([(r'$E (kcal \\times mol^{-1})$',r'RMSE ($kcal \\times mol^{-1}$)','Eani','Edft'),\n",
    "                       (r'$\\Delta E (kcal \\times mol^{-1})$',r'RMSE ($kcal \\times mol^{-1}$)','dEani','dEdft'),\n",
    "                       (r'$F (kcal \\times mol^{-1}\\AA^{-1})$',r'RMSE ($kcal \\times mol^{-1}$)','Fani','Fdft'),], \n",
    "                         ['DHL_DAT.0001', 'DHL_DAT.0002','DHL_DAT.0003',],\n",
    "                         ntwks=['ANI-1x-DHL-0000.0000','ANI-1x-DHL-0000.0001','ANI-1x-DHL-0000.0002'],\n",
    "                         fontsize=20, bbox_to_anchor=(1.0, 1.0), figsize=(30.0, 15.0), ncol=1, errortype='RMSE',\n",
    "                        #storepath='/home/jujuman/Dropbox/ANAKIN-ME-RESEARCH/PUBLICATION-ActiveLearning/Figures/figure_TSALvsANI_RMSE.pdf',\n",
    "                      )"
   ]
  },
  {
   "cell_type": "code",
   "execution_count": null,
   "metadata": {
    "scrolled": false
   },
   "outputs": [],
   "source": [
    "eed.plot_error_by_net([(r'$E (kcal \\times mol^{-1})$',r'RMSE ($kcal \\times mol^{-1}$)','Eani','Edft'),\n",
    "                       (r'$\\Delta E (kcal \\times mol^{-1})$',r'RMSE ($kcal \\times mol^{-1}$)','dEani','dEdft'),\n",
    "                       (r'$F (kcal \\times mol^{-1}\\AA^{-1})$',r'RMSE ($kcal \\times mol^{-1}$)','Fani','Fdft'),], \n",
    "                         ['GDB07to09', 'GDB10to13', 'DrugBank', 'Tripeptide', 'MDBenchmark', 's66x8'],\n",
    "                         ntwks=['AL1', 'AL2', 'AL3', 'AL4', 'AL5', 'AL6', 'ANI-1'],\n",
    "                         fontsize=20, bbox_to_anchor=(1.0, 1.0), figsize=(30.0, 15.0), ncol=1, errortype='RMSE',\n",
    "                        #storepath='/home/jujuman/Dropbox/ANAKIN-ME-RESEARCH/PUBLICATION-ActiveLearning/Figures/figure_TSALvsANI_RMSE.pdf')"
   ]
  },
  {
   "cell_type": "code",
   "execution_count": null,
   "metadata": {},
   "outputs": [],
   "source": [
    "eed.plot_error_by_net([(r'$E (kcal \\times mol^{-1})$',r'RMSE ($kcal \\times mol^{-1}$)','Eani','Edft'),\n",
    "                       (r'$\\Delta E (kcal \\times mol^{-1})$',r'RMSE ($kcal \\times mol^{-1}$)','dEani','dEdft'),\n",
    "                       (r'$F (kcal \\times mol^{-1}\\AA^{-1})$',r'RMSE ($kcal \\times mol^{-1}$)','Fani','Fdft'),], \n",
    "                         ['GDB07to09', 'GDB10to13', 'DrugBank', 'Tripeptide', 'MDBenchmark', 's66x8'],\n",
    "                         ntwks=['AL1', 'AL2', 'AL3', 'AL4', 'AL5', 'AL6', 'ANI-1'],\n",
    "                         fontsize=20, bbox_to_anchor=(1.0, 1.0), figsize=(30.0, 15.0), ncol=1, errortype='MAE',\n",
    "                        #storepath='/home/jujuman/Dropbox/ANAKIN-ME-RESEARCH/PUBLICATION-ActiveLearning/Figures/figure_TSALvsANI_MAE.pdf')\n",
    "#eed.generate_violin_distribution('GDB10to13')"
   ]
  },
  {
   "cell_type": "code",
   "execution_count": null,
   "metadata": {},
   "outputs": [],
   "source": [
    "'''\n",
    "eed.plot_error_by_net([(r'$E_T (kcal \\times mol^{-1})$',r'RMSE ($kcal \\times mol^{-1}$)','Eani','Edft'),\n",
    "                       (r'$\\Delta E (kcal \\times mol^{-1})$',r'RMSE ($kcal \\times mol^{-1}$)','dEani','dEdft'),\n",
    "                       (r'$F (kcal \\times mol^{-1}\\AA^{-1})$',r'RMSE ($kcal \\times mol^{-1}$)','Fani','Fdft'),], \n",
    "                         ['GDB07to09', 'GDB10to13', 'DrugBank', 'Tripeptide', 'MDBenchmark', 's66x8'],\n",
    "                         ntwks=['ARC1','ARC2','ARC3','ARC4','ARC5','ARC6','ARC7','ARC8'],\n",
    "                        fontsize=20, bbox_to_anchor=(1.0, 1.0), figsize=(20.0, 30.0), ncol=1, errortype='RMSE',\n",
    "                        storepath='/home/jujuman/Research/DataReductionMethods/train_test/tables/figure_TSALvsANI_RMSE.pdf')\n",
    "'''"
   ]
  },
  {
   "cell_type": "code",
   "execution_count": null,
   "metadata": {},
   "outputs": [],
   "source": [
    "Edft1 = eed.get_range_stats(tslist=['DHL_DAT.0002'],dkey='Fdft')\n",
    "plt.hist(Edft1,bins=20, log=True, edgecolor='black')\n",
    "plt.show()"
   ]
  },
  {
   "cell_type": "code",
   "execution_count": null,
   "metadata": {},
   "outputs": [],
   "source": [
    "Edft1 = eed.get_range_stats(tslist=['GDB-10to13 (CHNO)'],dkey='Na')\n",
    "plt.hist(Edft1,bins=18, log=True, edgecolor='black')\n",
    "plt.show()"
   ]
  },
  {
   "cell_type": "code",
   "execution_count": null,
   "metadata": {},
   "outputs": [],
   "source": [
    "Edft2 = eed.get_range_stats(tslist=['r10_ccsd'],dkey='Edft')\n",
    "plt.hist(Edft2,bins=16,color='r', log=True, edgecolor='black')\n",
    "plt.show()"
   ]
  },
  {
   "cell_type": "code",
   "execution_count": null,
   "metadata": {},
   "outputs": [],
   "source": [
    "Edft2 = eed.get_range_stats(tslist=['r10_ccsd'],dkey='Na')\n",
    "plt.hist(Edft2,bins=16, log=True,color='r', edgecolor='black')\n",
    "plt.show()"
   ]
  },
  {
   "cell_type": "code",
   "execution_count": null,
   "metadata": {},
   "outputs": [],
   "source": []
  },
  {
   "cell_type": "code",
   "execution_count": null,
   "metadata": {},
   "outputs": [],
   "source": []
  }
 ],
 "metadata": {
  "anaconda-cloud": {},
  "kernelspec": {
   "display_name": "Python 3",
   "language": "python",
   "name": "python3"
  },
  "language_info": {
   "codemirror_mode": {
    "name": "ipython",
    "version": 3
   },
   "file_extension": ".py",
   "mimetype": "text/x-python",
   "name": "python",
   "nbconvert_exporter": "python",
   "pygments_lexer": "ipython3",
   "version": "3.6.7"
  }
 },
 "nbformat": 4,
 "nbformat_minor": 1
}
