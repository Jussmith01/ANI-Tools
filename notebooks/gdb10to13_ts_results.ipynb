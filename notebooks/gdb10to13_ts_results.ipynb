{
 "cells": [
  {
   "cell_type": "code",
   "execution_count": 2,
   "metadata": {
    "collapsed": true
   },
   "outputs": [],
   "source": [
    "import pyanitools as pyt"
   ]
  },
  {
   "cell_type": "code",
   "execution_count": 3,
   "metadata": {
    "collapsed": true
   },
   "outputs": [],
   "source": [
    "adl = pyt.anidataloader('/home/jsmith48/scratch/extensibility_test_sets/COMP6v1/COMP6v1/GDB10to13/gdb13_13_test1000.h5')"
   ]
  },
  {
   "cell_type": "code",
   "execution_count": null,
   "metadata": {
    "collapsed": true
   },
   "outputs": [],
   "source": [
    "for data in adl:\n",
    "    print(data.keys())"
   ]
  },
  {
   "cell_type": "code",
   "execution_count": 37,
   "metadata": {},
   "outputs": [
    {
     "data": {
      "image/png": "[encoded data removed]",
      "text/plain": [
       "<matplotlib.figure.Figure at 0x2ada9bcc7208>"
      ]
     },
     "metadata": {},
     "output_type": "display_data"
    }
   ],
   "source": [
    "import numpy as np\n",
    "import matplotlib.pyplot as plt\n",
    "from matplotlib.ticker import MaxNLocator\n",
    "from collections import namedtuple\n",
    "\n",
    "\n",
    "n_groups = 3\n",
    "\n",
    "means_1xD = (2.38, 2.56, 3.44)\n",
    "std_1xD = (0.33, 0.05, 0.24)\n",
    "\n",
    "means_1oD = (4.99, 4.94, 18.04)\n",
    "std_1oD = (0.69, 0.42, 4.39)\n",
    "\n",
    "means_1xF = (3.38, 4.23, 3.95)\n",
    "std_1xF = (0.18, 0.12, 0.14)\n",
    "\n",
    "means_1oF = (6.67, 7.62, 12.70)\n",
    "std_1oF = (1.58, 1.55, 7.80)\n",
    "\n",
    "fig, (ax1, ax2) = plt.subplots(1,2,figsize=(8, 3.5))\n",
    "\n",
    "index = np.arange(n_groups)\n",
    "bar_width = 0.25\n",
    "\n",
    "opacity = 0.6\n",
    "error_config = {'ecolor': '0.3'}\n",
    "\n",
    "rects1 = ax1.bar(index, means_1xD, bar_width,\n",
    "                alpha=opacity, color='b',\n",
    "                yerr=std_1xD, error_kw=error_config,\n",
    "                label=r'ANI-1x')\n",
    "\n",
    "rects2 = ax1.bar(index + bar_width, means_1oD, bar_width,\n",
    "                alpha=opacity, color='r',\n",
    "                yerr=std_1oD, error_kw=error_config,\n",
    "                label='ANI-1')\n",
    "\n",
    "#ax.set_xlabel('Group')\n",
    "ax1.set_ylabel('RMSE (kcal/mol)')\n",
    "ax1.set_title(r'Relative energy ($\\Delta$E)')\n",
    "ax1.set_xticks(index + bar_width / 2)\n",
    "ax1.set_xticklabels(('Tripeptides', 'DrugBank', 'MDBenchmark'))\n",
    "ax1.legend(loc='upper left')\n",
    "\n",
    "rects1 = ax2.bar(index, means_1xF, bar_width,\n",
    "                alpha=opacity, color='b',\n",
    "                yerr=std_1xF, error_kw=error_config,\n",
    "                label=r'ANI-1x')\n",
    "\n",
    "rects2 = ax2.bar(index + bar_width, means_1oF, bar_width,\n",
    "                alpha=opacity, color='r',\n",
    "                yerr=std_1oF, error_kw=error_config,\n",
    "                label='ANI-1')\n",
    "\n",
    "#ax.set_xlabel('Group')\n",
    "ax2.set_ylabel(r'RMSE (kcal/mol/$\\AA$)')\n",
    "ax2.set_title('Force (F)')\n",
    "ax2.set_xticks(index + bar_width / 2)\n",
    "ax2.set_xticklabels(('Tripeptides', 'DrugBank', 'MDBenchmark'))\n",
    "ax2.legend(loc='upper left')\n",
    "\n",
    "\n",
    "fig.tight_layout()\n",
    "plt.show()"
   ]
  },
  {
   "cell_type": "code",
   "execution_count": null,
   "metadata": {
    "collapsed": true
   },
   "outputs": [],
   "source": []
  }
 ],
 "metadata": {
  "kernelspec": {
   "display_name": "Python 3",
   "language": "python",
   "name": "python3"
  },
  "language_info": {
   "codemirror_mode": {
    "name": "ipython",
    "version": 3
   },
   "file_extension": ".py",
   "mimetype": "text/x-python",
   "name": "python",
   "nbconvert_exporter": "python",
   "pygments_lexer": "ipython3",
   "version": "3.6.4"
  }
 },
 "nbformat": 4,
 "nbformat_minor": 2
}
