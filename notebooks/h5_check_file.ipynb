{
 "cells": [
  {
   "cell_type": "code",
   "execution_count": 1,
   "metadata": {},
   "outputs": [
    {
     "name": "stderr",
     "output_type": "stream",
     "text": [
      "/scratch/Anaconda/anaconda3/envs/my-rdkit-env/lib/python3.6/site-packages/h5py/__init__.py:36: FutureWarning: Conversion of the second argument of issubdtype from `float` to `np.floating` is deprecated. In future, it will be treated as `np.float64 == np.dtype(float).type`.\n",
      "  from ._conv import register_converters as _register_converters\n"
     ]
    }
   ],
   "source": [
    "import pyanitools as pyt"
   ]
  },
  {
   "cell_type": "code",
   "execution_count": 2,
   "metadata": {},
   "outputs": [],
   "source": [
    "h5file = '/nh/nest/u/jsmith/scratch/Gits/COMP6/COMP6v1/ANI-MD/ani_md_bench.h5'"
   ]
  },
  {
   "cell_type": "code",
   "execution_count": 3,
   "metadata": {},
   "outputs": [],
   "source": [
    "adl = pyt.anidataloader(h5file)"
   ]
  },
  {
   "cell_type": "code",
   "execution_count": 7,
   "metadata": {},
   "outputs": [
    {
     "name": "stdout",
     "output_type": "stream",
     "text": [
      "/crd.dat/molAcetaminophen\n",
      "/crd.dat/molAtazanavir\n",
      "/crd.dat/molAtomoxetine\n",
      "/crd.dat/molCaffeine\n",
      "/crd.dat/molCapsaicin\n",
      "/crd.dat/molChignolinNeutral\n",
      "/crd.dat/molFentanyl\n",
      "/crd.dat/molLisdexamfetamine\n",
      "/crd.dat/molOseltamivir\n",
      "/crd.dat/molRanolazine\n",
      "/crd.dat/molRetinol\n",
      "/crd.dat/molSalbutamol\n",
      "/crd.dat/molTolterodine\n",
      "/crd.dat/molTrpCage1L2Y\n"
     ]
    }
   ],
   "source": [
    "for data in adl:\n",
    "    print(data['path'])"
   ]
  },
  {
   "cell_type": "code",
   "execution_count": null,
   "metadata": {},
   "outputs": [],
   "source": []
  }
 ],
 "metadata": {
  "kernelspec": {
   "display_name": "Python 3",
   "language": "python",
   "name": "python3"
  },
  "language_info": {
   "codemirror_mode": {
    "name": "ipython",
    "version": 3
   },
   "file_extension": ".py",
   "mimetype": "text/x-python",
   "name": "python",
   "nbconvert_exporter": "python",
   "pygments_lexer": "ipython3",
   "version": "3.6.4"
  }
 },
 "nbformat": 4,
 "nbformat_minor": 2
}
