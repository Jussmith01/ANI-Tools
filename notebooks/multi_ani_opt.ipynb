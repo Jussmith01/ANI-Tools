{
 "cells": [
  {
   "cell_type": "code",
   "execution_count": 1,
   "metadata": {
    "collapsed": true
   },
   "outputs": [],
   "source": [
    "from ase_interface import ANIENS\n",
    "from ase_interface import ensemblemolecule\n",
    "\n",
    "import pyNeuroChem as pync\n",
    "import pyaniasetools as pya\n",
    "import hdnntools as hdt\n",
    "\n",
    "import numpy as np\n",
    "import  ase\n",
    "\n",
    "import time\n",
    "\n",
    "import os\n",
    "os.environ[\"OMP_NUM_THREADS\"] = \"2\"\n",
    "\n",
    "import  ase\n",
    "from ase.md.langevin import Langevin\n",
    "from ase.md.verlet import VelocityVerlet\n",
    "from ase.io.trajectory import Trajectory\n",
    "from ase import units\n",
    "\n",
    "from ase.optimize.fire import FIRE as QuasiNewton\n",
    "from ase.optimize import LBFGS\n",
    "\n",
    "from ase.md.nvtberendsen import NVTBerendsen\n",
    "from ase.md import MDLogger\n",
    "\n",
    "from ase.io import read, write\n",
    "\n",
    "from ase.parallel import world"
   ]
  },
  {
   "cell_type": "code",
   "execution_count": 2,
   "metadata": {
    "collapsed": true
   },
   "outputs": [],
   "source": [
    "sdir = '/home/jsmith48/scratch/carbon_nano_tube/all_xyz/'\n",
    "odir = '/home/jsmith48/scratch/carbon_nano_tube/dft_opt_xyz/'\n",
    "\n",
    "# Molecule file\n",
    "molfile = [f for f in os.listdir(sdir) if '.xyz' in f]\n",
    "\n",
    "C = 0.001 # Optimization convergence\n",
    "\n",
    "ntdir = '/home/jsmith48/scratch/auto_dhl_al/modeldhl/ANI-1x-DHL-0000/ANI-1x-DHL-0000.0019/'\n",
    "cns = ntdir + 'train0/rHCNO-5.2R_16-3.5A_a4-8.params'\n",
    "sae = ntdir + 'train0/sae_linfit.dat'\n",
    "nnf = ntdir + 'train'\n",
    "Nn = 8"
   ]
  },
  {
   "cell_type": "code",
   "execution_count": 3,
   "metadata": {
    "collapsed": true
   },
   "outputs": [],
   "source": [
    "# Set NC\n",
    "aens = ensemblemolecule(cns, sae, nnf, Nn, 4)"
   ]
  },
  {
   "cell_type": "code",
   "execution_count": 6,
   "metadata": {},
   "outputs": [
    {
     "name": "stdout",
     "output_type": "stream",
     "text": [
      "11_0_ortho1.xyz 1106\n",
      "[ANI Total time: 3.5684120655059814 seconds] Total steps: 163\n",
      "5_4_pristine.xyz 994\n",
      "[ANI Total time: 5.1030378341674805 seconds] Total steps: 253\n",
      "8_6_ortho2.xyz 1228\n",
      "[ANI Total time: 23.10005211830139 seconds] Total steps: 1015\n",
      "9_1_ortho3.xyz 1136\n",
      "[ANI Total time: 7.85323429107666 seconds] Total steps: 349\n",
      "16_0_ortho1.xyz 1600\n",
      "[ANI Total time: 11.005992412567139 seconds] Total steps: 412\n",
      "6_2_ortho1.xyz 864\n",
      "[ANI Total time: 8.288365840911865 seconds] Total steps: 404\n",
      "9_1_ortho2.xyz 1136\n",
      "[ANI Total time: 6.808588027954102 seconds] Total steps: 308\n",
      "16_0_ortho2.xyz 1600\n",
      "[ANI Total time: 10.637757062911987 seconds] Total steps: 399\n",
      "5_4_ortho2.xyz 1006\n",
      "[ANI Total time: 6.520658493041992 seconds] Total steps: 298\n",
      "14_0_ortho3.xyz 1404\n",
      "[ANI Total time: 11.683601379394531 seconds] Total steps: 467\n",
      "7_6_ortho3.xyz 1562\n",
      "[ANI Total time: 19.948963403701782 seconds] Total steps: 745\n",
      "10_5_ortho3.xyz 1450\n",
      "[ANI Total time: 7.29061484336853 seconds] Total steps: 292\n",
      "10_5_ortho2.xyz 1450\n",
      "[ANI Total time: 7.069291114807129 seconds] Total steps: 287\n",
      "10_0_ortho1.xyz 1204\n",
      "[ANI Total time: 6.458268404006958 seconds] Total steps: 284\n",
      "6_2_ortho3.xyz 864\n",
      "[ANI Total time: 8.54025936126709 seconds] Total steps: 413\n",
      "6_5_ortho2.xyz 1126\n",
      "[ANI Total time: 9.024341583251953 seconds] Total steps: 411\n",
      "5_4_ortho1.xyz 1006\n",
      "[ANI Total time: 6.3825836181640625 seconds] Total steps: 307\n",
      "16_0_ortho3.xyz 1600\n",
      "[ANI Total time: 6.9934492111206055 seconds] Total steps: 259\n",
      "7_6_pristine.xyz 1550\n",
      "[ANI Total time: 7.184031248092651 seconds] Total steps: 288\n",
      "8_0_ortho2.xyz 968\n",
      "[ANI Total time: 10.251659631729126 seconds] Total steps: 497\n",
      "10_0_pristine.xyz 1192\n",
      "[ANI Total time: 3.9122040271759033 seconds] Total steps: 189\n",
      "16_0_pristine.xyz 1588\n",
      "[ANI Total time: 5.903262138366699 seconds] Total steps: 226\n",
      "11_0_ortho3.xyz 1106\n",
      "[ANI Total time: 7.465492010116577 seconds] Total steps: 353\n",
      "9_1_pristine.xyz 1124\n",
      "[ANI Total time: 3.988908052444458 seconds] Total steps: 195\n",
      "19_0_ortho3.xyz 1898\n",
      "[ANI Total time: 11.761046171188354 seconds] Total steps: 407\n",
      "6_2_pristine.xyz 852\n",
      "[ANI Total time: 7.302578687667847 seconds] Total steps: 408\n",
      "14_0_ortho1.xyz 1404\n",
      "[ANI Total time: 10.506359100341797 seconds] Total steps: 433\n",
      "6_5_ortho3.xyz 1126\n",
      "[ANI Total time: 6.9411046504974365 seconds] Total steps: 320\n",
      "7_6_ortho2.xyz 1562\n",
      "[ANI Total time: 19.311863660812378 seconds] Total steps: 736\n",
      "8_6_ortho3.xyz 1228\n",
      "[ANI Total time: 11.834705352783203 seconds] Total steps: 544\n",
      "19_0_ortho2.xyz 1898\n",
      "[ANI Total time: 12.448424100875854 seconds] Total steps: 416\n",
      "11_0_pristine.xyz 1094\n",
      "[ANI Total time: 3.007956027984619 seconds] Total steps: 150\n",
      "7_5_ortho3.xyz 1348\n",
      "[ANI Total time: 17.440951585769653 seconds] Total steps: 728\n",
      "7_6_ortho1.xyz 1562\n",
      "[ANI Total time: 20.85219669342041 seconds] Total steps: 790\n",
      "8_6_ortho1.xyz 1228\n",
      "[ANI Total time: 20.603838443756104 seconds] Total steps: 921\n",
      "5_4_ortho3.xyz 1006\n",
      "[ANI Total time: 6.332726955413818 seconds] Total steps: 298\n",
      "10_5_pristine.xyz 1438\n",
      "[ANI Total time: 6.164662837982178 seconds] Total steps: 245\n",
      "7_5_ortho1.xyz 1348\n",
      "[ANI Total time: 16.975863218307495 seconds] Total steps: 714\n",
      "8_0_pristine.xyz 956\n",
      "[ANI Total time: 9.174357891082764 seconds] Total steps: 468\n",
      "14_0_pristine.xyz 1392\n",
      "[ANI Total time: 5.102937698364258 seconds] Total steps: 215\n",
      "7_5_pristine.xyz 1336\n",
      "[ANI Total time: 7.15927267074585 seconds] Total steps: 323\n",
      "8_0_ortho3.xyz 968\n",
      "[ANI Total time: 9.732826232910156 seconds] Total steps: 469\n",
      "19_0_ortho1.xyz 1898\n",
      "[ANI Total time: 12.62386441230774 seconds] Total steps: 433\n",
      "11_0_ortho2.xyz 1106\n",
      "[ANI Total time: 7.2855212688446045 seconds] Total steps: 344\n",
      "9_1_ortho1.xyz 1136\n",
      "[ANI Total time: 6.8118884563446045 seconds] Total steps: 316\n",
      "8_0_ortho1.xyz 968\n",
      "[ANI Total time: 10.295032501220703 seconds] Total steps: 508\n",
      "14_0_ortho2.xyz 1404\n",
      "[ANI Total time: 11.391906261444092 seconds] Total steps: 461\n",
      "10_0_ortho2.xyz 1204\n",
      "[ANI Total time: 6.718876123428345 seconds] Total steps: 301\n",
      "6_2_ortho2.xyz 864\n",
      "[ANI Total time: 8.984201669692993 seconds] Total steps: 450\n",
      "19_0_pristine.xyz 1886\n",
      "[ANI Total time: 7.169710636138916 seconds] Total steps: 247\n",
      "7_5_ortho2.xyz 1348\n",
      "[ANI Total time: 18.870351314544678 seconds] Total steps: 804\n",
      "8_6_pristine.xyz 1216\n",
      "[ANI Total time: 3.1710822582244873 seconds] Total steps: 153\n",
      "10_5_ortho1.xyz 1450\n",
      "[ANI Total time: 6.896939516067505 seconds] Total steps: 275\n",
      "6_5_ortho1.xyz 1126\n",
      "[ANI Total time: 6.895493507385254 seconds] Total steps: 318\n",
      "10_0_ortho3.xyz 1204\n",
      "[ANI Total time: 6.6460607051849365 seconds] Total steps: 304\n",
      "6_5_pristine.xyz 1114\n",
      "[ANI Total time: 4.136210203170776 seconds] Total steps: 208\n"
     ]
    }
   ],
   "source": [
    "total_time = 0\n",
    "for f in molfile:\n",
    "    # Load molecule\n",
    "    mol = read(sdir+f)\n",
    "    \n",
    "    # Set ANI calculator\n",
    "    mol.set_calculator(ANIENS(aens))\n",
    "\n",
    "    spc = mol.get_chemical_symbols()\n",
    "    print(f,len(spc))\n",
    "\n",
    "    # Optimize molecule\n",
    "    start_time = time.time()\n",
    "    dyn = LBFGS(mol,logfile='LOG.OUT')\n",
    "    dyn.run(fmax=C,steps=10000)\n",
    "    print('[ANI Total time:', time.time() - start_time, 'seconds] Total steps: '+str(dyn.nsteps))\n",
    "    total_time += time.time() - start_time\n",
    "\n",
    "    # Save optimized mol\n",
    "    spc = mol.get_chemical_symbols()\n",
    "    pos = mol.get_positions(wrap=False).reshape(1,len(spc),3)\n",
    "\n",
    "\n",
    "    hdt.writexyzfile(odir+f.rsplit('.',1)[0]+'_aniopt.xyz', pos, spc)"
   ]
  },
  {
   "cell_type": "code",
   "execution_count": 5,
   "metadata": {},
   "outputs": [
    {
     "name": "stdout",
     "output_type": "stream",
     "text": [
      "526.6713964939117\n"
     ]
    }
   ],
   "source": [
    "print(total_time)"
   ]
  },
  {
   "cell_type": "code",
   "execution_count": null,
   "metadata": {
    "collapsed": true
   },
   "outputs": [],
   "source": []
  }
 ],
 "metadata": {
  "kernelspec": {
   "display_name": "Python 3",
   "language": "python",
   "name": "python3"
  },
  "language_info": {
   "codemirror_mode": {
    "name": "ipython",
    "version": 3
   },
   "file_extension": ".py",
   "mimetype": "text/x-python",
   "name": "python",
   "nbconvert_exporter": "python",
   "pygments_lexer": "ipython3",
   "version": "3.6.3"
  }
 },
 "nbformat": 4,
 "nbformat_minor": 2
}
