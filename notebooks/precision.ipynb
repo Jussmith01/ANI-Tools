{
 "cells": [
  {
   "cell_type": "code",
   "execution_count": 1,
   "metadata": {},
   "outputs": [],
   "source": [
    "import numpy as np"
   ]
  },
  {
   "cell_type": "code",
   "execution_count": 289,
   "metadata": {},
   "outputs": [
    {
     "name": "stdout",
     "output_type": "stream",
     "text": [
      "0 2 0x100\n"
     ]
    }
   ],
   "source": [
    "# for fun, extract individual components of fp16\n",
    "# can view with hex() or bin()\n",
    "def extract_bits_f16(x: np.float16):\n",
    "    raw = b.view(np.uint16)\n",
    "    # highest bit\n",
    "    sign = raw >> (5 + 10)\n",
    "    # next 5 bits\n",
    "    exponent = np.uint16(raw << 1) # need explicit truncation\n",
    "    exponent = (exponent >> (1 + 10)) - 15\n",
    "    # next 10 bits\n",
    "    mantissa = np.uint16(raw << (1 + 5))\n",
    "    mantissa = mantissa >> (1 + 5)\n",
    "    return (sign, exponent, mantissa)\n",
    "\n",
    "b = np.float16(5.0)\n",
    "(sign, exponent, mantissa) = extract_bits_f16(b)\n",
    "print(sign, exponent, hex(mantissa))\n",
    "\n",
    "# Mantissa = 01_0000_0000 (in binary)\n",
    "#          = (1 + 0*1/2 + 1*(1/2)^2)\n",
    "# Note that for this \"normal\" floating point number, first bit of mantissa is 1 implicitly\n",
    "#\n",
    "# Check: 5 = 2^2 * mantissa = 4 * (5/4)"
   ]
  },
  {
   "cell_type": "code",
   "execution_count": 291,
   "metadata": {},
   "outputs": [],
   "source": [
    "def split_single(x: np.float32):\n",
    "    assert type(x) == np.float32\n",
    "    \n",
    "    hi = x.astype(np.float16)\n",
    "    lo = (x - hi.astype(np.float32))    # remainder\n",
    "    lo = lo * np.float32(2**10)         # while still in fp32, avoid exponent underflow\n",
    "    lo = lo.astype(np.float16)\n",
    "    return (hi, lo)\n",
    "\n",
    "def combine_halves(hi, lo):\n",
    "    return hi + lo * (2**(-10))"
   ]
  },
  {
   "cell_type": "code",
   "execution_count": 292,
   "metadata": {},
   "outputs": [],
   "source": [
    "x1 = np.float32(1.2345678901)\n",
    "x2 = np.float32(-23000.456789012)\n",
    "x3 = x1 * x2"
   ]
  },
  {
   "cell_type": "code",
   "execution_count": 296,
   "metadata": {},
   "outputs": [
    {
     "name": "stdout",
     "output_type": "stream",
     "text": [
      "0.0\n",
      "-0.0\n"
     ]
    }
   ],
   "source": [
    "(hi_1, lo_1) = split_single(x1)\n",
    "(hi_2, lo_2) = split_single(x2)\n",
    "\n",
    "x1_r = combine_halves(hi_1, lo_1)\n",
    "print((x1 - x1_r) / x1)\n",
    "\n",
    "x2_r = combine_halves(hi_2, lo_2)\n",
    "print((x2 - x2_r) / x2)"
   ]
  },
  {
   "cell_type": "code",
   "execution_count": 297,
   "metadata": {},
   "outputs": [
    {
     "name": "stdout",
     "output_type": "stream",
     "text": [
      "-0.0\n"
     ]
    }
   ],
   "source": [
    "# multiply/accumulate at f32 precision\n",
    "hi_3 = np.float32(hi_1) * hi_2\n",
    "lo_3 = np.float32(hi_1) * lo_2 + np.float32(lo_1) * hi_2\n",
    "x3_r = combine_halves(hi_3, lo_3)\n",
    "print((x3 - x3_rr) / x3)"
   ]
  }
 ],
 "metadata": {
  "kernelspec": {
   "display_name": "Python 3",
   "language": "python",
   "name": "python3"
  },
  "language_info": {
   "codemirror_mode": {
    "name": "ipython",
    "version": 3
   },
   "file_extension": ".py",
   "mimetype": "text/x-python",
   "name": "python",
   "nbconvert_exporter": "python",
   "pygments_lexer": "ipython3",
   "version": "3.6.4"
  }
 },
 "nbformat": 4,
 "nbformat_minor": 2
}
