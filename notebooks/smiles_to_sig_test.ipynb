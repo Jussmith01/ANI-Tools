{
 "cells": [
  {
   "cell_type": "code",
   "execution_count": 1,
   "metadata": {},
   "outputs": [],
   "source": [
    "# N#CC1(C#N)C(N)=CC2=CC=CC=C(N)C21 \n",
    "# C1C(N)=CC2=CC=CC=C(N)C21"
   ]
  },
  {
   "cell_type": "code",
   "execution_count": 2,
   "metadata": {},
   "outputs": [
    {
     "name": "stdout",
     "output_type": "stream",
     "text": [
      "van Der Waals correction will be unavailable. Please install ased3\n"
     ]
    }
   ],
   "source": [
    "import pyaniasetools as aat\n",
    "import hdnntools as hdt\n",
    "\n",
    "from rdkit import Chem, RDConfig\n",
    "from rdkit.Chem import AllChem, rdMolAlign"
   ]
  },
  {
   "cell_type": "code",
   "execution_count": 3,
   "metadata": {},
   "outputs": [],
   "source": [
    "ref1 = Chem.MolFromSmiles('CN(C)C1=CC=CC=C2C(N)=CC(C#N)(C#N)C21')\n",
    "ref2 = Chem.MolFromSmiles('CN(C)C1=CC=CC=C2C(N)=CCC21')"
   ]
  },
  {
   "cell_type": "code",
   "execution_count": 4,
   "metadata": {},
   "outputs": [],
   "source": [
    "ref1=Chem.AddHs(ref1)\n",
    "ref2=Chem.AddHs(ref2)"
   ]
  },
  {
   "cell_type": "code",
   "execution_count": 5,
   "metadata": {},
   "outputs": [
    {
     "data": {
      "text/plain": [
       "0"
      ]
     },
     "execution_count": 5,
     "metadata": {},
     "output_type": "execute_result"
    }
   ],
   "source": [
    "AllChem.EmbedMolecule(ref1)\n",
    "AllChem.EmbedMolecule(ref2)"
   ]
  },
  {
   "cell_type": "code",
   "execution_count": 6,
   "metadata": {},
   "outputs": [
    {
     "data": {
      "text/plain": [
       "0"
      ]
     },
     "execution_count": 6,
     "metadata": {},
     "output_type": "execute_result"
    }
   ],
   "source": [
    "AllChem.UFFOptimizeMolecule(ref1)\n",
    "AllChem.UFFOptimizeMolecule(ref2)"
   ]
  },
  {
   "cell_type": "code",
   "execution_count": 7,
   "metadata": {},
   "outputs": [],
   "source": [
    "ntdir = '/nh/nest/u/jsmith/scratch/Research/ccsd_extrapolation/final_train_models_3/ani-1x_dft_x8ens/'\n",
    "cns = ntdir + 'rHCNO-5.2R_16-3.5A_a4-8.params'\n",
    "sae = ntdir + 'sae_linfit.dat'\n",
    "nnf = ntdir + 'train'\n",
    "Nn = 8"
   ]
  },
  {
   "cell_type": "code",
   "execution_count": 8,
   "metadata": {},
   "outputs": [],
   "source": [
    "act = aat.anienscomputetool(cns,sae,nnf,Nn)"
   ]
  },
  {
   "cell_type": "code",
   "execution_count": 9,
   "metadata": {},
   "outputs": [
    {
     "name": "stdout",
     "output_type": "stream",
     "text": [
      "0.9263752076994484\n"
     ]
    }
   ],
   "source": [
    "act.optimize_rdkit_molecule(ref1,0)\n",
    "E = act.energy_rdkit_conformers(ref1,[0])\n",
    "print(hdt.hatokcal*E[1][0])"
   ]
  },
  {
   "cell_type": "code",
   "execution_count": 10,
   "metadata": {},
   "outputs": [
    {
     "name": "stdout",
     "output_type": "stream",
     "text": [
      "0.46018349056703967\n"
     ]
    }
   ],
   "source": [
    "act.optimize_rdkit_molecule(ref2,0)\n",
    "E = act.energy_rdkit_conformers(ref2,[0])\n",
    "print(hdt.hatokcal*E[1][0])"
   ]
  },
  {
   "cell_type": "code",
   "execution_count": null,
   "metadata": {},
   "outputs": [],
   "source": []
  },
  {
   "cell_type": "code",
   "execution_count": null,
   "metadata": {},
   "outputs": [],
   "source": []
  }
 ],
 "metadata": {
  "kernelspec": {
   "display_name": "Python 3",
   "language": "python",
   "name": "python3"
  },
  "language_info": {
   "codemirror_mode": {
    "name": "ipython",
    "version": 3
   },
   "file_extension": ".py",
   "mimetype": "text/x-python",
   "name": "python",
   "nbconvert_exporter": "python",
   "pygments_lexer": "ipython3",
   "version": "3.6.4"
  }
 },
 "nbformat": 4,
 "nbformat_minor": 2
}
