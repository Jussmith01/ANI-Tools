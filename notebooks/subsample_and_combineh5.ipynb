{
 "cells": [
  {
   "cell_type": "code",
   "execution_count": 1,
   "metadata": {},
   "outputs": [
    {
     "name": "stderr",
     "output_type": "stream",
     "text": [
      "/usr/local/anaconda3/lib/python3.6/site-packages/h5py/__init__.py:36: FutureWarning: Conversion of the second argument of issubdtype from `float` to `np.floating` is deprecated. In future, it will be treated as `np.float64 == np.dtype(float).type`.\n",
      "  from ._conv import register_converters as _register_converters\n"
     ]
    }
   ],
   "source": [
    "import pyanitools as pyt\n",
    "import numpy as np\n",
    "import os"
   ]
  },
  {
   "cell_type": "code",
   "execution_count": 42,
   "metadata": {
    "collapsed": true
   },
   "outputs": [],
   "source": [
    "indir = '/home/jsmith48/scratch/auto_wat_al/splits/wat-init/'\n",
    "otfle = '/data/jsmith48/auto_dhl_al/ani-al_watinit_5p.h5'\n",
    "\n",
    "p=0.05"
   ]
  },
  {
   "cell_type": "code",
   "execution_count": 43,
   "metadata": {
    "collapsed": true
   },
   "outputs": [],
   "source": [
    "files = [f for f in os.listdir(indir) if '.h5' in f]"
   ]
  },
  {
   "cell_type": "code",
   "execution_count": 44,
   "metadata": {},
   "outputs": [
    {
     "name": "stdout",
     "output_type": "stream",
     "text": [
      "h2o_nms_clusters.h5\n"
     ]
    }
   ],
   "source": [
    "dpack = pyt.datapacker(otfle)\n",
    "Ndat = 0\n",
    "Nsav = 0\n",
    "for f in files:\n",
    "    print(f)\n",
    "    adl = pyt.anidataloader(indir+f)\n",
    "    for data in adl:\n",
    "        path = '/'+f+data['path']\n",
    "        del data['path']\n",
    "        \n",
    "        N = data['energies'].size\n",
    "        Ndat += N\n",
    "        \n",
    "        idx = np.where(np.random.uniform(size=N) < p)\n",
    "        Nsav += idx[0].size\n",
    "        \n",
    "        if idx[0].size > 0:\n",
    "            new_data = {'coordinates':data['coordinates'][idx],\n",
    "                        'species':list(data['species']),\n",
    "                        }\n",
    "        \n",
    "            dpack.store_data(path,**new_data)\n",
    "        \n",
    "        #print(idx)\n",
    "dpack.cleanup()"
   ]
  },
  {
   "cell_type": "code",
   "execution_count": 45,
   "metadata": {},
   "outputs": [
    {
     "name": "stdout",
     "output_type": "stream",
     "text": [
      "15200 722\n"
     ]
    }
   ],
   "source": [
    "print(Ndat,Nsav)"
   ]
  },
  {
   "cell_type": "code",
   "execution_count": null,
   "metadata": {
    "collapsed": true
   },
   "outputs": [],
   "source": []
  },
  {
   "cell_type": "code",
   "execution_count": null,
   "metadata": {
    "collapsed": true
   },
   "outputs": [],
   "source": []
  },
  {
   "cell_type": "code",
   "execution_count": null,
   "metadata": {
    "collapsed": true
   },
   "outputs": [],
   "source": []
  }
 ],
 "metadata": {
  "kernelspec": {
   "display_name": "Python 3",
   "language": "python",
   "name": "python3"
  },
  "language_info": {
   "codemirror_mode": {
    "name": "ipython",
    "version": 3
   },
   "file_extension": ".py",
   "mimetype": "text/x-python",
   "name": "python",
   "nbconvert_exporter": "python",
   "pygments_lexer": "ipython3",
   "version": "3.6.4"
  }
 },
 "nbformat": 4,
 "nbformat_minor": 2
}
